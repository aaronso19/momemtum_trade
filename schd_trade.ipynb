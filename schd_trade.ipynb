{
 "cells": [
  {
   "cell_type": "markdown",
   "id": "4b69425f",
   "metadata": {},
   "source": [
    "# Stable ETF analysis"
   ]
  },
  {
   "cell_type": "code",
   "execution_count": 1,
   "id": "df31ab3d",
   "metadata": {},
   "outputs": [],
   "source": [
    "import yfinance as yf\n",
    "import pandas as pd"
   ]
  },
  {
   "cell_type": "markdown",
   "id": "8618c72a",
   "metadata": {},
   "source": [
    "### In this analysis, we study a stable dividend driven ETF, which does not have a lots of price fluctuation. We should expect the model to not recommend trade almost all the time as there is not much short term price actions for us to take action to profit."
   ]
  },
  {
   "cell_type": "code",
   "execution_count": 48,
   "id": "f584caaf",
   "metadata": {},
   "outputs": [
    {
     "name": "stdout",
     "output_type": "stream",
     "text": [
      "[*********************100%%**********************]  1 of 1 completed\n"
     ]
    }
   ],
   "source": [
    "data = yf.download(\"schd\", period='12mo')"
   ]
  },
  {
   "cell_type": "code",
   "execution_count": 49,
   "id": "1097ac4d",
   "metadata": {},
   "outputs": [
    {
     "data": {
      "text/html": [
       "<div>\n",
       "<style scoped>\n",
       "    .dataframe tbody tr th:only-of-type {\n",
       "        vertical-align: middle;\n",
       "    }\n",
       "\n",
       "    .dataframe tbody tr th {\n",
       "        vertical-align: top;\n",
       "    }\n",
       "\n",
       "    .dataframe thead th {\n",
       "        text-align: right;\n",
       "    }\n",
       "</style>\n",
       "<table border=\"1\" class=\"dataframe\">\n",
       "  <thead>\n",
       "    <tr style=\"text-align: right;\">\n",
       "      <th></th>\n",
       "      <th>Open</th>\n",
       "      <th>High</th>\n",
       "      <th>Low</th>\n",
       "      <th>Close</th>\n",
       "      <th>Adj Close</th>\n",
       "      <th>Volume</th>\n",
       "    </tr>\n",
       "    <tr>\n",
       "      <th>Date</th>\n",
       "      <th></th>\n",
       "      <th></th>\n",
       "      <th></th>\n",
       "      <th></th>\n",
       "      <th></th>\n",
       "      <th></th>\n",
       "    </tr>\n",
       "  </thead>\n",
       "  <tbody>\n",
       "    <tr>\n",
       "      <th>2023-03-16</th>\n",
       "      <td>70.470001</td>\n",
       "      <td>71.739998</td>\n",
       "      <td>70.010002</td>\n",
       "      <td>71.650002</td>\n",
       "      <td>69.070877</td>\n",
       "      <td>4220800</td>\n",
       "    </tr>\n",
       "    <tr>\n",
       "      <th>2023-03-17</th>\n",
       "      <td>71.599998</td>\n",
       "      <td>71.599998</td>\n",
       "      <td>70.300003</td>\n",
       "      <td>70.510002</td>\n",
       "      <td>67.971916</td>\n",
       "      <td>4822100</td>\n",
       "    </tr>\n",
       "    <tr>\n",
       "      <th>2023-03-20</th>\n",
       "      <td>70.940002</td>\n",
       "      <td>71.769997</td>\n",
       "      <td>70.930000</td>\n",
       "      <td>71.570000</td>\n",
       "      <td>68.993752</td>\n",
       "      <td>3790200</td>\n",
       "    </tr>\n",
       "    <tr>\n",
       "      <th>2023-03-21</th>\n",
       "      <td>72.279999</td>\n",
       "      <td>72.449997</td>\n",
       "      <td>71.889999</td>\n",
       "      <td>72.330002</td>\n",
       "      <td>69.726395</td>\n",
       "      <td>3090100</td>\n",
       "    </tr>\n",
       "    <tr>\n",
       "      <th>2023-03-22</th>\n",
       "      <td>71.779999</td>\n",
       "      <td>71.930000</td>\n",
       "      <td>70.320000</td>\n",
       "      <td>70.339996</td>\n",
       "      <td>68.372353</td>\n",
       "      <td>3704300</td>\n",
       "    </tr>\n",
       "    <tr>\n",
       "      <th>2023-03-23</th>\n",
       "      <td>70.680000</td>\n",
       "      <td>71.220001</td>\n",
       "      <td>69.809998</td>\n",
       "      <td>70.279999</td>\n",
       "      <td>68.314041</td>\n",
       "      <td>4706900</td>\n",
       "    </tr>\n",
       "    <tr>\n",
       "      <th>2023-03-24</th>\n",
       "      <td>69.940002</td>\n",
       "      <td>70.919998</td>\n",
       "      <td>69.660004</td>\n",
       "      <td>70.839996</td>\n",
       "      <td>68.858368</td>\n",
       "      <td>3775500</td>\n",
       "    </tr>\n",
       "    <tr>\n",
       "      <th>2023-03-27</th>\n",
       "      <td>71.480003</td>\n",
       "      <td>71.570000</td>\n",
       "      <td>70.919998</td>\n",
       "      <td>71.139999</td>\n",
       "      <td>69.149979</td>\n",
       "      <td>3421300</td>\n",
       "    </tr>\n",
       "    <tr>\n",
       "      <th>2023-03-28</th>\n",
       "      <td>71.110001</td>\n",
       "      <td>71.489998</td>\n",
       "      <td>71.010002</td>\n",
       "      <td>71.250000</td>\n",
       "      <td>69.256912</td>\n",
       "      <td>3344600</td>\n",
       "    </tr>\n",
       "    <tr>\n",
       "      <th>2023-03-29</th>\n",
       "      <td>71.830002</td>\n",
       "      <td>72.120003</td>\n",
       "      <td>71.690002</td>\n",
       "      <td>72.089996</td>\n",
       "      <td>70.073402</td>\n",
       "      <td>2711600</td>\n",
       "    </tr>\n",
       "  </tbody>\n",
       "</table>\n",
       "</div>"
      ],
      "text/plain": [
       "                 Open       High        Low      Close  Adj Close   Volume\n",
       "Date                                                                      \n",
       "2023-03-16  70.470001  71.739998  70.010002  71.650002  69.070877  4220800\n",
       "2023-03-17  71.599998  71.599998  70.300003  70.510002  67.971916  4822100\n",
       "2023-03-20  70.940002  71.769997  70.930000  71.570000  68.993752  3790200\n",
       "2023-03-21  72.279999  72.449997  71.889999  72.330002  69.726395  3090100\n",
       "2023-03-22  71.779999  71.930000  70.320000  70.339996  68.372353  3704300\n",
       "2023-03-23  70.680000  71.220001  69.809998  70.279999  68.314041  4706900\n",
       "2023-03-24  69.940002  70.919998  69.660004  70.839996  68.858368  3775500\n",
       "2023-03-27  71.480003  71.570000  70.919998  71.139999  69.149979  3421300\n",
       "2023-03-28  71.110001  71.489998  71.010002  71.250000  69.256912  3344600\n",
       "2023-03-29  71.830002  72.120003  71.690002  72.089996  70.073402  2711600"
      ]
     },
     "execution_count": 49,
     "metadata": {},
     "output_type": "execute_result"
    }
   ],
   "source": [
    "data.head(10)"
   ]
  },
  {
   "cell_type": "markdown",
   "id": "0628f84d",
   "metadata": {},
   "source": [
    "## Problem statement\n",
    "\n",
    "Given the last 5 days closing price (day1 to day5), if you buy at the opening on the next day (day6) , would you be able to make 3% gain in the next 5 days (day6 to day10) ? i.e., by just looking at the closing price of the last 5 days, should i place a trade on day6 with the hope of getting a 3% return on the next 5 days ? "
   ]
  },
  {
   "cell_type": "markdown",
   "id": "ae7c5ad8",
   "metadata": {},
   "source": [
    "###  Create the input data frame. i.e. day1 to day5 dataframe"
   ]
  },
  {
   "cell_type": "code",
   "execution_count": 50,
   "id": "dea8cd53",
   "metadata": {},
   "outputs": [],
   "source": [
    "past_data = pd.DataFrame()"
   ]
  },
  {
   "cell_type": "code",
   "execution_count": 51,
   "id": "5c12d74f",
   "metadata": {},
   "outputs": [],
   "source": [
    "past_data['day1'] = data[['Close']].shift(9,axis=0)\n",
    "past_data['day2'] = data[['Close']].shift(8,axis=0)\n",
    "past_data['day3'] = data[['Close']].shift(7,axis=0)\n",
    "past_data['day4'] = data[['Close']].shift(6,axis=0)\n",
    "past_data['day5'] = data[['Close']].shift(5,axis=0)\n",
    "past_data = past_data.reset_index()\n",
    "past_data = past_data.drop(['Date'],axis=1)\n",
    "past_data = past_data.drop([0,1,2,3,4,5,6,7,8,9])"
   ]
  },
  {
   "cell_type": "code",
   "execution_count": 52,
   "id": "169458df",
   "metadata": {},
   "outputs": [
    {
     "data": {
      "text/html": [
       "<div>\n",
       "<style scoped>\n",
       "    .dataframe tbody tr th:only-of-type {\n",
       "        vertical-align: middle;\n",
       "    }\n",
       "\n",
       "    .dataframe tbody tr th {\n",
       "        vertical-align: top;\n",
       "    }\n",
       "\n",
       "    .dataframe thead th {\n",
       "        text-align: right;\n",
       "    }\n",
       "</style>\n",
       "<table border=\"1\" class=\"dataframe\">\n",
       "  <thead>\n",
       "    <tr style=\"text-align: right;\">\n",
       "      <th></th>\n",
       "      <th>day1</th>\n",
       "      <th>day2</th>\n",
       "      <th>day3</th>\n",
       "      <th>day4</th>\n",
       "      <th>day5</th>\n",
       "    </tr>\n",
       "  </thead>\n",
       "  <tbody>\n",
       "    <tr>\n",
       "      <th>10</th>\n",
       "      <td>70.510002</td>\n",
       "      <td>71.570000</td>\n",
       "      <td>72.330002</td>\n",
       "      <td>70.339996</td>\n",
       "      <td>70.279999</td>\n",
       "    </tr>\n",
       "    <tr>\n",
       "      <th>11</th>\n",
       "      <td>71.570000</td>\n",
       "      <td>72.330002</td>\n",
       "      <td>70.339996</td>\n",
       "      <td>70.279999</td>\n",
       "      <td>70.839996</td>\n",
       "    </tr>\n",
       "    <tr>\n",
       "      <th>12</th>\n",
       "      <td>72.330002</td>\n",
       "      <td>70.339996</td>\n",
       "      <td>70.279999</td>\n",
       "      <td>70.839996</td>\n",
       "      <td>71.139999</td>\n",
       "    </tr>\n",
       "    <tr>\n",
       "      <th>13</th>\n",
       "      <td>70.339996</td>\n",
       "      <td>70.279999</td>\n",
       "      <td>70.839996</td>\n",
       "      <td>71.139999</td>\n",
       "      <td>71.250000</td>\n",
       "    </tr>\n",
       "    <tr>\n",
       "      <th>14</th>\n",
       "      <td>70.279999</td>\n",
       "      <td>70.839996</td>\n",
       "      <td>71.139999</td>\n",
       "      <td>71.250000</td>\n",
       "      <td>72.089996</td>\n",
       "    </tr>\n",
       "    <tr>\n",
       "      <th>15</th>\n",
       "      <td>70.839996</td>\n",
       "      <td>71.139999</td>\n",
       "      <td>71.250000</td>\n",
       "      <td>72.089996</td>\n",
       "      <td>72.300003</td>\n",
       "    </tr>\n",
       "    <tr>\n",
       "      <th>16</th>\n",
       "      <td>71.139999</td>\n",
       "      <td>71.250000</td>\n",
       "      <td>72.089996</td>\n",
       "      <td>72.300003</td>\n",
       "      <td>73.160004</td>\n",
       "    </tr>\n",
       "    <tr>\n",
       "      <th>17</th>\n",
       "      <td>71.250000</td>\n",
       "      <td>72.089996</td>\n",
       "      <td>72.300003</td>\n",
       "      <td>73.160004</td>\n",
       "      <td>73.559998</td>\n",
       "    </tr>\n",
       "    <tr>\n",
       "      <th>18</th>\n",
       "      <td>72.089996</td>\n",
       "      <td>72.300003</td>\n",
       "      <td>73.160004</td>\n",
       "      <td>73.559998</td>\n",
       "      <td>72.849998</td>\n",
       "    </tr>\n",
       "    <tr>\n",
       "      <th>19</th>\n",
       "      <td>72.300003</td>\n",
       "      <td>73.160004</td>\n",
       "      <td>73.559998</td>\n",
       "      <td>72.849998</td>\n",
       "      <td>73.019997</td>\n",
       "    </tr>\n",
       "  </tbody>\n",
       "</table>\n",
       "</div>"
      ],
      "text/plain": [
       "         day1       day2       day3       day4       day5\n",
       "10  70.510002  71.570000  72.330002  70.339996  70.279999\n",
       "11  71.570000  72.330002  70.339996  70.279999  70.839996\n",
       "12  72.330002  70.339996  70.279999  70.839996  71.139999\n",
       "13  70.339996  70.279999  70.839996  71.139999  71.250000\n",
       "14  70.279999  70.839996  71.139999  71.250000  72.089996\n",
       "15  70.839996  71.139999  71.250000  72.089996  72.300003\n",
       "16  71.139999  71.250000  72.089996  72.300003  73.160004\n",
       "17  71.250000  72.089996  72.300003  73.160004  73.559998\n",
       "18  72.089996  72.300003  73.160004  73.559998  72.849998\n",
       "19  72.300003  73.160004  73.559998  72.849998  73.019997"
      ]
     },
     "execution_count": 52,
     "metadata": {},
     "output_type": "execute_result"
    }
   ],
   "source": [
    "past_data.head(10)"
   ]
  },
  {
   "cell_type": "markdown",
   "id": "c603de18",
   "metadata": {},
   "source": [
    "### get the maximum price the stock will reach on day6 to day10"
   ]
  },
  {
   "cell_type": "code",
   "execution_count": 53,
   "id": "855f2436",
   "metadata": {},
   "outputs": [],
   "source": [
    "future_data = pd.DataFrame()"
   ]
  },
  {
   "cell_type": "code",
   "execution_count": 54,
   "id": "01bcae5b",
   "metadata": {},
   "outputs": [],
   "source": [
    "future_data['day6'] = data[['High']].shift(4,axis=0)\n",
    "future_data['day7'] = data[['High']].shift(3,axis=0)\n",
    "future_data['day8'] = data[['High']].shift(2,axis=0)\n",
    "future_data['day9'] = data[['High']].shift(1,axis=0)\n",
    "future_data['day10'] = data[['High']]\n",
    "future_data = future_data.reset_index()\n",
    "future_data = future_data.drop(['Date'],axis=1)\n",
    "future_data = future_data.drop([0,1,2,3,4,5,6,7,8,9])\n"
   ]
  },
  {
   "cell_type": "code",
   "execution_count": 55,
   "id": "5c5b0be0",
   "metadata": {},
   "outputs": [
    {
     "data": {
      "text/html": [
       "<div>\n",
       "<style scoped>\n",
       "    .dataframe tbody tr th:only-of-type {\n",
       "        vertical-align: middle;\n",
       "    }\n",
       "\n",
       "    .dataframe tbody tr th {\n",
       "        vertical-align: top;\n",
       "    }\n",
       "\n",
       "    .dataframe thead th {\n",
       "        text-align: right;\n",
       "    }\n",
       "</style>\n",
       "<table border=\"1\" class=\"dataframe\">\n",
       "  <thead>\n",
       "    <tr style=\"text-align: right;\">\n",
       "      <th></th>\n",
       "      <th>day6</th>\n",
       "      <th>day7</th>\n",
       "      <th>day8</th>\n",
       "      <th>day9</th>\n",
       "      <th>day10</th>\n",
       "    </tr>\n",
       "  </thead>\n",
       "  <tbody>\n",
       "    <tr>\n",
       "      <th>10</th>\n",
       "      <td>70.919998</td>\n",
       "      <td>71.570000</td>\n",
       "      <td>71.489998</td>\n",
       "      <td>72.120003</td>\n",
       "      <td>72.599998</td>\n",
       "    </tr>\n",
       "    <tr>\n",
       "      <th>11</th>\n",
       "      <td>71.570000</td>\n",
       "      <td>71.489998</td>\n",
       "      <td>72.120003</td>\n",
       "      <td>72.599998</td>\n",
       "      <td>73.209999</td>\n",
       "    </tr>\n",
       "    <tr>\n",
       "      <th>12</th>\n",
       "      <td>71.489998</td>\n",
       "      <td>72.120003</td>\n",
       "      <td>72.599998</td>\n",
       "      <td>73.209999</td>\n",
       "      <td>73.650002</td>\n",
       "    </tr>\n",
       "    <tr>\n",
       "      <th>13</th>\n",
       "      <td>72.120003</td>\n",
       "      <td>72.599998</td>\n",
       "      <td>73.209999</td>\n",
       "      <td>73.650002</td>\n",
       "      <td>73.680000</td>\n",
       "    </tr>\n",
       "    <tr>\n",
       "      <th>14</th>\n",
       "      <td>72.599998</td>\n",
       "      <td>73.209999</td>\n",
       "      <td>73.650002</td>\n",
       "      <td>73.680000</td>\n",
       "      <td>73.169998</td>\n",
       "    </tr>\n",
       "  </tbody>\n",
       "</table>\n",
       "</div>"
      ],
      "text/plain": [
       "         day6       day7       day8       day9      day10\n",
       "10  70.919998  71.570000  71.489998  72.120003  72.599998\n",
       "11  71.570000  71.489998  72.120003  72.599998  73.209999\n",
       "12  71.489998  72.120003  72.599998  73.209999  73.650002\n",
       "13  72.120003  72.599998  73.209999  73.650002  73.680000\n",
       "14  72.599998  73.209999  73.650002  73.680000  73.169998"
      ]
     },
     "execution_count": 55,
     "metadata": {},
     "output_type": "execute_result"
    }
   ],
   "source": [
    "future_data.head(5)"
   ]
  },
  {
   "cell_type": "code",
   "execution_count": 56,
   "id": "dc1ed143",
   "metadata": {},
   "outputs": [],
   "source": [
    "next_five_days_max = pd.DataFrame()"
   ]
  },
  {
   "cell_type": "code",
   "execution_count": 57,
   "id": "e7c1a1e9",
   "metadata": {},
   "outputs": [],
   "source": [
    "next_five_days_max['future_max'] = future_data[[\"day6\", \"day7\", \"day8\", \"day9\", \"day10\"]].max(axis=1)"
   ]
  },
  {
   "cell_type": "markdown",
   "id": "7589ac87",
   "metadata": {},
   "source": [
    "### get the opening price of day 6"
   ]
  },
  {
   "cell_type": "code",
   "execution_count": 58,
   "id": "6c9a28c7",
   "metadata": {},
   "outputs": [],
   "source": [
    "day6_open = pd.DataFrame()"
   ]
  },
  {
   "cell_type": "code",
   "execution_count": 59,
   "id": "c6367279",
   "metadata": {},
   "outputs": [],
   "source": [
    "day6_open['day6_open'] = data[['Open']].shift(4,axis=0)\n",
    "day6_open = day6_open.reset_index()\n",
    "day6_open = day6_open.drop(['Date'],axis=1)\n",
    "day6_open = day6_open.drop([0,1,2,3,4,5,6,7,8,9])"
   ]
  },
  {
   "cell_type": "code",
   "execution_count": 60,
   "id": "4866d3f9",
   "metadata": {},
   "outputs": [
    {
     "data": {
      "text/html": [
       "<div>\n",
       "<style scoped>\n",
       "    .dataframe tbody tr th:only-of-type {\n",
       "        vertical-align: middle;\n",
       "    }\n",
       "\n",
       "    .dataframe tbody tr th {\n",
       "        vertical-align: top;\n",
       "    }\n",
       "\n",
       "    .dataframe thead th {\n",
       "        text-align: right;\n",
       "    }\n",
       "</style>\n",
       "<table border=\"1\" class=\"dataframe\">\n",
       "  <thead>\n",
       "    <tr style=\"text-align: right;\">\n",
       "      <th></th>\n",
       "      <th>day6_open</th>\n",
       "    </tr>\n",
       "  </thead>\n",
       "  <tbody>\n",
       "    <tr>\n",
       "      <th>10</th>\n",
       "      <td>69.940002</td>\n",
       "    </tr>\n",
       "    <tr>\n",
       "      <th>11</th>\n",
       "      <td>71.480003</td>\n",
       "    </tr>\n",
       "    <tr>\n",
       "      <th>12</th>\n",
       "      <td>71.110001</td>\n",
       "    </tr>\n",
       "    <tr>\n",
       "      <th>13</th>\n",
       "      <td>71.830002</td>\n",
       "    </tr>\n",
       "    <tr>\n",
       "      <th>14</th>\n",
       "      <td>72.519997</td>\n",
       "    </tr>\n",
       "    <tr>\n",
       "      <th>15</th>\n",
       "      <td>72.570000</td>\n",
       "    </tr>\n",
       "    <tr>\n",
       "      <th>16</th>\n",
       "      <td>73.309998</td>\n",
       "    </tr>\n",
       "    <tr>\n",
       "      <th>17</th>\n",
       "      <td>73.660004</td>\n",
       "    </tr>\n",
       "    <tr>\n",
       "      <th>18</th>\n",
       "      <td>72.809998</td>\n",
       "    </tr>\n",
       "    <tr>\n",
       "      <th>19</th>\n",
       "      <td>73.029999</td>\n",
       "    </tr>\n",
       "  </tbody>\n",
       "</table>\n",
       "</div>"
      ],
      "text/plain": [
       "    day6_open\n",
       "10  69.940002\n",
       "11  71.480003\n",
       "12  71.110001\n",
       "13  71.830002\n",
       "14  72.519997\n",
       "15  72.570000\n",
       "16  73.309998\n",
       "17  73.660004\n",
       "18  72.809998\n",
       "19  73.029999"
      ]
     },
     "execution_count": 60,
     "metadata": {},
     "output_type": "execute_result"
    }
   ],
   "source": [
    "day6_open.head(10)"
   ]
  },
  {
   "cell_type": "markdown",
   "id": "24b952c2",
   "metadata": {},
   "source": [
    "### calculate the percentage gain from day6 open to the max from day6 to day10"
   ]
  },
  {
   "cell_type": "code",
   "execution_count": 61,
   "id": "1e5e550d",
   "metadata": {},
   "outputs": [],
   "source": [
    "gain_percent =pd.DataFrame()"
   ]
  },
  {
   "cell_type": "code",
   "execution_count": 62,
   "id": "2a6bda9d",
   "metadata": {},
   "outputs": [
    {
     "data": {
      "text/html": [
       "<div>\n",
       "<style scoped>\n",
       "    .dataframe tbody tr th:only-of-type {\n",
       "        vertical-align: middle;\n",
       "    }\n",
       "\n",
       "    .dataframe tbody tr th {\n",
       "        vertical-align: top;\n",
       "    }\n",
       "\n",
       "    .dataframe thead th {\n",
       "        text-align: right;\n",
       "    }\n",
       "</style>\n",
       "<table border=\"1\" class=\"dataframe\">\n",
       "  <thead>\n",
       "    <tr style=\"text-align: right;\">\n",
       "      <th></th>\n",
       "      <th>future_max</th>\n",
       "    </tr>\n",
       "  </thead>\n",
       "  <tbody>\n",
       "    <tr>\n",
       "      <th>10</th>\n",
       "      <td>72.599998</td>\n",
       "    </tr>\n",
       "    <tr>\n",
       "      <th>11</th>\n",
       "      <td>73.209999</td>\n",
       "    </tr>\n",
       "    <tr>\n",
       "      <th>12</th>\n",
       "      <td>73.650002</td>\n",
       "    </tr>\n",
       "    <tr>\n",
       "      <th>13</th>\n",
       "      <td>73.680000</td>\n",
       "    </tr>\n",
       "    <tr>\n",
       "      <th>14</th>\n",
       "      <td>73.680000</td>\n",
       "    </tr>\n",
       "  </tbody>\n",
       "</table>\n",
       "</div>"
      ],
      "text/plain": [
       "    future_max\n",
       "10   72.599998\n",
       "11   73.209999\n",
       "12   73.650002\n",
       "13   73.680000\n",
       "14   73.680000"
      ]
     },
     "execution_count": 62,
     "metadata": {},
     "output_type": "execute_result"
    }
   ],
   "source": [
    "next_five_days_max.head()"
   ]
  },
  {
   "cell_type": "code",
   "execution_count": 63,
   "id": "8b7443d0",
   "metadata": {},
   "outputs": [],
   "source": [
    "gain_percent['gain'] = next_five_days_max['future_max'] - day6_open['day6_open']\n",
    "gain_percent['gain'] = gain_percent['gain']/day6_open['day6_open']"
   ]
  },
  {
   "cell_type": "code",
   "execution_count": 64,
   "id": "a4316093",
   "metadata": {},
   "outputs": [
    {
     "data": {
      "text/html": [
       "<div>\n",
       "<style scoped>\n",
       "    .dataframe tbody tr th:only-of-type {\n",
       "        vertical-align: middle;\n",
       "    }\n",
       "\n",
       "    .dataframe tbody tr th {\n",
       "        vertical-align: top;\n",
       "    }\n",
       "\n",
       "    .dataframe thead th {\n",
       "        text-align: right;\n",
       "    }\n",
       "</style>\n",
       "<table border=\"1\" class=\"dataframe\">\n",
       "  <thead>\n",
       "    <tr style=\"text-align: right;\">\n",
       "      <th></th>\n",
       "      <th>gain</th>\n",
       "    </tr>\n",
       "  </thead>\n",
       "  <tbody>\n",
       "    <tr>\n",
       "      <th>10</th>\n",
       "      <td>0.038033</td>\n",
       "    </tr>\n",
       "    <tr>\n",
       "      <th>11</th>\n",
       "      <td>0.024203</td>\n",
       "    </tr>\n",
       "    <tr>\n",
       "      <th>12</th>\n",
       "      <td>0.035719</td>\n",
       "    </tr>\n",
       "    <tr>\n",
       "      <th>13</th>\n",
       "      <td>0.025755</td>\n",
       "    </tr>\n",
       "    <tr>\n",
       "      <th>14</th>\n",
       "      <td>0.015996</td>\n",
       "    </tr>\n",
       "  </tbody>\n",
       "</table>\n",
       "</div>"
      ],
      "text/plain": [
       "        gain\n",
       "10  0.038033\n",
       "11  0.024203\n",
       "12  0.035719\n",
       "13  0.025755\n",
       "14  0.015996"
      ]
     },
     "execution_count": 64,
     "metadata": {},
     "output_type": "execute_result"
    }
   ],
   "source": [
    "gain_percent.head()"
   ]
  },
  {
   "cell_type": "markdown",
   "id": "c1a60a45",
   "metadata": {},
   "source": [
    "### this is the output trade or no trade on day6"
   ]
  },
  {
   "cell_type": "code",
   "execution_count": 65,
   "id": "127654f9",
   "metadata": {},
   "outputs": [],
   "source": [
    "trade = gain_percent['gain'] > 0.03"
   ]
  },
  {
   "cell_type": "code",
   "execution_count": 66,
   "id": "aa212db2",
   "metadata": {},
   "outputs": [
    {
     "data": {
      "text/plain": [
       "10     True\n",
       "11    False\n",
       "12     True\n",
       "13    False\n",
       "14    False\n",
       "Name: gain, dtype: bool"
      ]
     },
     "execution_count": 66,
     "metadata": {},
     "output_type": "execute_result"
    }
   ],
   "source": [
    "trade.head()"
   ]
  },
  {
   "cell_type": "markdown",
   "id": "f083fb0d",
   "metadata": {},
   "source": [
    "## Try to idendify buy opportunities with KNN"
   ]
  },
  {
   "cell_type": "code",
   "execution_count": 67,
   "id": "1d1a9e7d",
   "metadata": {},
   "outputs": [],
   "source": [
    "from sklearn.preprocessing import StandardScaler, OneHotEncoder\n",
    "from sklearn.pipeline import Pipeline\n",
    "from sklearn.compose import make_column_transformer\n",
    "from sklearn.neighbors import KNeighborsClassifier\n",
    "from sklearn.model_selection import train_test_split, GridSearchCV"
   ]
  },
  {
   "cell_type": "code",
   "execution_count": 68,
   "id": "95d81dfb",
   "metadata": {},
   "outputs": [],
   "source": [
    "X_train, X_test, y_train, y_test = train_test_split(past_data, trade, random_state=42)\n"
   ]
  },
  {
   "cell_type": "code",
   "execution_count": 69,
   "id": "40fa4853",
   "metadata": {},
   "outputs": [
    {
     "data": {
      "text/html": [
       "<style>#sk-container-id-3 {color: black;background-color: white;}#sk-container-id-3 pre{padding: 0;}#sk-container-id-3 div.sk-toggleable {background-color: white;}#sk-container-id-3 label.sk-toggleable__label {cursor: pointer;display: block;width: 100%;margin-bottom: 0;padding: 0.3em;box-sizing: border-box;text-align: center;}#sk-container-id-3 label.sk-toggleable__label-arrow:before {content: \"▸\";float: left;margin-right: 0.25em;color: #696969;}#sk-container-id-3 label.sk-toggleable__label-arrow:hover:before {color: black;}#sk-container-id-3 div.sk-estimator:hover label.sk-toggleable__label-arrow:before {color: black;}#sk-container-id-3 div.sk-toggleable__content {max-height: 0;max-width: 0;overflow: hidden;text-align: left;background-color: #f0f8ff;}#sk-container-id-3 div.sk-toggleable__content pre {margin: 0.2em;color: black;border-radius: 0.25em;background-color: #f0f8ff;}#sk-container-id-3 input.sk-toggleable__control:checked~div.sk-toggleable__content {max-height: 200px;max-width: 100%;overflow: auto;}#sk-container-id-3 input.sk-toggleable__control:checked~label.sk-toggleable__label-arrow:before {content: \"▾\";}#sk-container-id-3 div.sk-estimator input.sk-toggleable__control:checked~label.sk-toggleable__label {background-color: #d4ebff;}#sk-container-id-3 div.sk-label input.sk-toggleable__control:checked~label.sk-toggleable__label {background-color: #d4ebff;}#sk-container-id-3 input.sk-hidden--visually {border: 0;clip: rect(1px 1px 1px 1px);clip: rect(1px, 1px, 1px, 1px);height: 1px;margin: -1px;overflow: hidden;padding: 0;position: absolute;width: 1px;}#sk-container-id-3 div.sk-estimator {font-family: monospace;background-color: #f0f8ff;border: 1px dotted black;border-radius: 0.25em;box-sizing: border-box;margin-bottom: 0.5em;}#sk-container-id-3 div.sk-estimator:hover {background-color: #d4ebff;}#sk-container-id-3 div.sk-parallel-item::after {content: \"\";width: 100%;border-bottom: 1px solid gray;flex-grow: 1;}#sk-container-id-3 div.sk-label:hover label.sk-toggleable__label {background-color: #d4ebff;}#sk-container-id-3 div.sk-serial::before {content: \"\";position: absolute;border-left: 1px solid gray;box-sizing: border-box;top: 0;bottom: 0;left: 50%;z-index: 0;}#sk-container-id-3 div.sk-serial {display: flex;flex-direction: column;align-items: center;background-color: white;padding-right: 0.2em;padding-left: 0.2em;position: relative;}#sk-container-id-3 div.sk-item {position: relative;z-index: 1;}#sk-container-id-3 div.sk-parallel {display: flex;align-items: stretch;justify-content: center;background-color: white;position: relative;}#sk-container-id-3 div.sk-item::before, #sk-container-id-3 div.sk-parallel-item::before {content: \"\";position: absolute;border-left: 1px solid gray;box-sizing: border-box;top: 0;bottom: 0;left: 50%;z-index: -1;}#sk-container-id-3 div.sk-parallel-item {display: flex;flex-direction: column;z-index: 1;position: relative;background-color: white;}#sk-container-id-3 div.sk-parallel-item:first-child::after {align-self: flex-end;width: 50%;}#sk-container-id-3 div.sk-parallel-item:last-child::after {align-self: flex-start;width: 50%;}#sk-container-id-3 div.sk-parallel-item:only-child::after {width: 0;}#sk-container-id-3 div.sk-dashed-wrapped {border: 1px dashed gray;margin: 0 0.4em 0.5em 0.4em;box-sizing: border-box;padding-bottom: 0.4em;background-color: white;}#sk-container-id-3 div.sk-label label {font-family: monospace;font-weight: bold;display: inline-block;line-height: 1.2em;}#sk-container-id-3 div.sk-label-container {text-align: center;}#sk-container-id-3 div.sk-container {/* jupyter's `normalize.less` sets `[hidden] { display: none; }` but bootstrap.min.css set `[hidden] { display: none !important; }` so we also need the `!important` here to be able to override the default hidden behavior on the sphinx rendered scikit-learn.org. See: https://github.com/scikit-learn/scikit-learn/issues/21755 */display: inline-block !important;position: relative;}#sk-container-id-3 div.sk-text-repr-fallback {display: none;}</style><div id=\"sk-container-id-3\" class=\"sk-top-container\"><div class=\"sk-text-repr-fallback\"><pre>Pipeline(steps=[(&#x27;scale&#x27;, StandardScaler()), (&#x27;knn&#x27;, KNeighborsClassifier())])</pre><b>In a Jupyter environment, please rerun this cell to show the HTML representation or trust the notebook. <br />On GitHub, the HTML representation is unable to render, please try loading this page with nbviewer.org.</b></div><div class=\"sk-container\" hidden><div class=\"sk-item sk-dashed-wrapped\"><div class=\"sk-label-container\"><div class=\"sk-label sk-toggleable\"><input class=\"sk-toggleable__control sk-hidden--visually\" id=\"sk-estimator-id-7\" type=\"checkbox\" ><label for=\"sk-estimator-id-7\" class=\"sk-toggleable__label sk-toggleable__label-arrow\">Pipeline</label><div class=\"sk-toggleable__content\"><pre>Pipeline(steps=[(&#x27;scale&#x27;, StandardScaler()), (&#x27;knn&#x27;, KNeighborsClassifier())])</pre></div></div></div><div class=\"sk-serial\"><div class=\"sk-item\"><div class=\"sk-estimator sk-toggleable\"><input class=\"sk-toggleable__control sk-hidden--visually\" id=\"sk-estimator-id-8\" type=\"checkbox\" ><label for=\"sk-estimator-id-8\" class=\"sk-toggleable__label sk-toggleable__label-arrow\">StandardScaler</label><div class=\"sk-toggleable__content\"><pre>StandardScaler()</pre></div></div></div><div class=\"sk-item\"><div class=\"sk-estimator sk-toggleable\"><input class=\"sk-toggleable__control sk-hidden--visually\" id=\"sk-estimator-id-9\" type=\"checkbox\" ><label for=\"sk-estimator-id-9\" class=\"sk-toggleable__label sk-toggleable__label-arrow\">KNeighborsClassifier</label><div class=\"sk-toggleable__content\"><pre>KNeighborsClassifier()</pre></div></div></div></div></div></div></div>"
      ],
      "text/plain": [
       "Pipeline(steps=[('scale', StandardScaler()), ('knn', KNeighborsClassifier())])"
      ]
     },
     "execution_count": 69,
     "metadata": {},
     "output_type": "execute_result"
    }
   ],
   "source": [
    "knn_pipe = Pipeline([('scale', StandardScaler()), ('knn', KNeighborsClassifier())])\n",
    "knn_pipe.fit(X_train, y_train)\n"
   ]
  },
  {
   "cell_type": "code",
   "execution_count": 70,
   "id": "9e14009f",
   "metadata": {},
   "outputs": [
    {
     "data": {
      "image/png": "[encoded data removed]",
      "text/plain": [
       "<Figure size 640x480 with 2 Axes>"
      ]
     },
     "metadata": {},
     "output_type": "display_data"
    }
   ],
   "source": [
    "from sklearn.metrics import confusion_matrix, precision_score, recall_score, accuracy_score, ConfusionMatrixDisplay\n",
    "import matplotlib.pyplot as plt\n",
    "\n",
    "knn_preds = knn_pipe.predict(X_test)\n",
    "voo_confusion_mat = confusion_matrix(y_test, knn_preds)\n",
    "disp = ConfusionMatrixDisplay(confusion_matrix=voo_confusion_mat, display_labels=['not buy', 'buy' ])\n",
    "disp.plot()\n",
    "plt.show()\n"
   ]
  },
  {
   "cell_type": "markdown",
   "id": "910b0c13",
   "metadata": {},
   "source": [
    "As expected there is no buy recommendation predicted by the model. There are 2 buy opportunities that it missed, 2 mistake of entering the trade. It would be good improve the model to make even less mistake."
   ]
  },
  {
   "cell_type": "markdown",
   "id": "c732b294",
   "metadata": {},
   "source": [
    "## Logistic Regression"
   ]
  },
  {
   "cell_type": "code",
   "execution_count": 71,
   "id": "1e7eafdb",
   "metadata": {},
   "outputs": [],
   "source": [
    "from sklearn.linear_model import LogisticRegression"
   ]
  },
  {
   "cell_type": "code",
   "execution_count": 72,
   "id": "ba8705d1",
   "metadata": {},
   "outputs": [
    {
     "data": {
      "text/html": [
       "<style>#sk-container-id-4 {color: black;background-color: white;}#sk-container-id-4 pre{padding: 0;}#sk-container-id-4 div.sk-toggleable {background-color: white;}#sk-container-id-4 label.sk-toggleable__label {cursor: pointer;display: block;width: 100%;margin-bottom: 0;padding: 0.3em;box-sizing: border-box;text-align: center;}#sk-container-id-4 label.sk-toggleable__label-arrow:before {content: \"▸\";float: left;margin-right: 0.25em;color: #696969;}#sk-container-id-4 label.sk-toggleable__label-arrow:hover:before {color: black;}#sk-container-id-4 div.sk-estimator:hover label.sk-toggleable__label-arrow:before {color: black;}#sk-container-id-4 div.sk-toggleable__content {max-height: 0;max-width: 0;overflow: hidden;text-align: left;background-color: #f0f8ff;}#sk-container-id-4 div.sk-toggleable__content pre {margin: 0.2em;color: black;border-radius: 0.25em;background-color: #f0f8ff;}#sk-container-id-4 input.sk-toggleable__control:checked~div.sk-toggleable__content {max-height: 200px;max-width: 100%;overflow: auto;}#sk-container-id-4 input.sk-toggleable__control:checked~label.sk-toggleable__label-arrow:before {content: \"▾\";}#sk-container-id-4 div.sk-estimator input.sk-toggleable__control:checked~label.sk-toggleable__label {background-color: #d4ebff;}#sk-container-id-4 div.sk-label input.sk-toggleable__control:checked~label.sk-toggleable__label {background-color: #d4ebff;}#sk-container-id-4 input.sk-hidden--visually {border: 0;clip: rect(1px 1px 1px 1px);clip: rect(1px, 1px, 1px, 1px);height: 1px;margin: -1px;overflow: hidden;padding: 0;position: absolute;width: 1px;}#sk-container-id-4 div.sk-estimator {font-family: monospace;background-color: #f0f8ff;border: 1px dotted black;border-radius: 0.25em;box-sizing: border-box;margin-bottom: 0.5em;}#sk-container-id-4 div.sk-estimator:hover {background-color: #d4ebff;}#sk-container-id-4 div.sk-parallel-item::after {content: \"\";width: 100%;border-bottom: 1px solid gray;flex-grow: 1;}#sk-container-id-4 div.sk-label:hover label.sk-toggleable__label {background-color: #d4ebff;}#sk-container-id-4 div.sk-serial::before {content: \"\";position: absolute;border-left: 1px solid gray;box-sizing: border-box;top: 0;bottom: 0;left: 50%;z-index: 0;}#sk-container-id-4 div.sk-serial {display: flex;flex-direction: column;align-items: center;background-color: white;padding-right: 0.2em;padding-left: 0.2em;position: relative;}#sk-container-id-4 div.sk-item {position: relative;z-index: 1;}#sk-container-id-4 div.sk-parallel {display: flex;align-items: stretch;justify-content: center;background-color: white;position: relative;}#sk-container-id-4 div.sk-item::before, #sk-container-id-4 div.sk-parallel-item::before {content: \"\";position: absolute;border-left: 1px solid gray;box-sizing: border-box;top: 0;bottom: 0;left: 50%;z-index: -1;}#sk-container-id-4 div.sk-parallel-item {display: flex;flex-direction: column;z-index: 1;position: relative;background-color: white;}#sk-container-id-4 div.sk-parallel-item:first-child::after {align-self: flex-end;width: 50%;}#sk-container-id-4 div.sk-parallel-item:last-child::after {align-self: flex-start;width: 50%;}#sk-container-id-4 div.sk-parallel-item:only-child::after {width: 0;}#sk-container-id-4 div.sk-dashed-wrapped {border: 1px dashed gray;margin: 0 0.4em 0.5em 0.4em;box-sizing: border-box;padding-bottom: 0.4em;background-color: white;}#sk-container-id-4 div.sk-label label {font-family: monospace;font-weight: bold;display: inline-block;line-height: 1.2em;}#sk-container-id-4 div.sk-label-container {text-align: center;}#sk-container-id-4 div.sk-container {/* jupyter's `normalize.less` sets `[hidden] { display: none; }` but bootstrap.min.css set `[hidden] { display: none !important; }` so we also need the `!important` here to be able to override the default hidden behavior on the sphinx rendered scikit-learn.org. See: https://github.com/scikit-learn/scikit-learn/issues/21755 */display: inline-block !important;position: relative;}#sk-container-id-4 div.sk-text-repr-fallback {display: none;}</style><div id=\"sk-container-id-4\" class=\"sk-top-container\"><div class=\"sk-text-repr-fallback\"><pre>Pipeline(steps=[(&#x27;scale&#x27;, StandardScaler()), (&#x27;log&#x27;, LogisticRegression())])</pre><b>In a Jupyter environment, please rerun this cell to show the HTML representation or trust the notebook. <br />On GitHub, the HTML representation is unable to render, please try loading this page with nbviewer.org.</b></div><div class=\"sk-container\" hidden><div class=\"sk-item sk-dashed-wrapped\"><div class=\"sk-label-container\"><div class=\"sk-label sk-toggleable\"><input class=\"sk-toggleable__control sk-hidden--visually\" id=\"sk-estimator-id-10\" type=\"checkbox\" ><label for=\"sk-estimator-id-10\" class=\"sk-toggleable__label sk-toggleable__label-arrow\">Pipeline</label><div class=\"sk-toggleable__content\"><pre>Pipeline(steps=[(&#x27;scale&#x27;, StandardScaler()), (&#x27;log&#x27;, LogisticRegression())])</pre></div></div></div><div class=\"sk-serial\"><div class=\"sk-item\"><div class=\"sk-estimator sk-toggleable\"><input class=\"sk-toggleable__control sk-hidden--visually\" id=\"sk-estimator-id-11\" type=\"checkbox\" ><label for=\"sk-estimator-id-11\" class=\"sk-toggleable__label sk-toggleable__label-arrow\">StandardScaler</label><div class=\"sk-toggleable__content\"><pre>StandardScaler()</pre></div></div></div><div class=\"sk-item\"><div class=\"sk-estimator sk-toggleable\"><input class=\"sk-toggleable__control sk-hidden--visually\" id=\"sk-estimator-id-12\" type=\"checkbox\" ><label for=\"sk-estimator-id-12\" class=\"sk-toggleable__label sk-toggleable__label-arrow\">LogisticRegression</label><div class=\"sk-toggleable__content\"><pre>LogisticRegression()</pre></div></div></div></div></div></div></div>"
      ],
      "text/plain": [
       "Pipeline(steps=[('scale', StandardScaler()), ('log', LogisticRegression())])"
      ]
     },
     "execution_count": 72,
     "metadata": {},
     "output_type": "execute_result"
    }
   ],
   "source": [
    "log_pipe = Pipeline([('scale', StandardScaler()), ('log', LogisticRegression())])\n",
    "log_pipe.fit(X_train, y_train)\n"
   ]
  },
  {
   "cell_type": "code",
   "execution_count": 73,
   "id": "1a6c16a5",
   "metadata": {},
   "outputs": [
    {
     "data": {
      "image/png": "[encoded data removed]",
      "text/plain": [
       "<Figure size 640x480 with 2 Axes>"
      ]
     },
     "metadata": {},
     "output_type": "display_data"
    }
   ],
   "source": [
    "log_preds = log_pipe.predict(X_test)\n",
    "voo_confusion_mat = confusion_matrix(y_test, log_preds)\n",
    "disp = ConfusionMatrixDisplay(confusion_matrix=voo_confusion_mat, display_labels=['not buy', 'buy' ])\n",
    "disp.plot()\n",
    "plt.show()\n"
   ]
  },
  {
   "cell_type": "markdown",
   "id": "9ec64adc",
   "metadata": {},
   "source": [
    "This is good. The model is not recommending trade almost all the time, and it also make 0 mistake of entering a trade."
   ]
  },
  {
   "cell_type": "markdown",
   "id": "ae4f2c97",
   "metadata": {},
   "source": [
    "## Decision Tree"
   ]
  },
  {
   "cell_type": "code",
   "execution_count": 28,
   "id": "a7a7b221",
   "metadata": {},
   "outputs": [],
   "source": [
    "from sklearn.tree import DecisionTreeClassifier"
   ]
  },
  {
   "cell_type": "code",
   "execution_count": 29,
   "id": "2abc8924",
   "metadata": {},
   "outputs": [],
   "source": [
    "tree_model = DecisionTreeClassifier()\n",
    "tree_model.fit(X_train,y_train)\n",
    "tree_pred = tree_model.predict(X_test)"
   ]
  },
  {
   "cell_type": "code",
   "execution_count": 30,
   "id": "1cb6bc8a",
   "metadata": {},
   "outputs": [
    {
     "data": {
      "image/png": "[encoded data removed]",
      "text/plain": [
       "<Figure size 640x480 with 2 Axes>"
      ]
     },
     "metadata": {},
     "output_type": "display_data"
    }
   ],
   "source": [
    "voo_confusion_mat = confusion_matrix(y_test, tree_pred)\n",
    "disp = ConfusionMatrixDisplay(confusion_matrix=voo_confusion_mat, display_labels=['not buy', 'buy' ])\n",
    "disp.plot()\n",
    "plt.show()\n"
   ]
  },
  {
   "cell_type": "markdown",
   "id": "93b1ce35",
   "metadata": {},
   "source": [
    "This is still good as it not recommending trade most of the time, but it make more mistake of entering trade, which make it worse than KNN"
   ]
  },
  {
   "cell_type": "markdown",
   "id": "588e7ea8",
   "metadata": {},
   "source": [
    "## SVM"
   ]
  },
  {
   "cell_type": "code",
   "execution_count": 74,
   "id": "a96951df",
   "metadata": {},
   "outputs": [],
   "source": [
    "from sklearn.svm import SVC\n"
   ]
  },
  {
   "cell_type": "code",
   "execution_count": 32,
   "id": "49d4bfca",
   "metadata": {},
   "outputs": [
    {
     "data": {
      "text/plain": [
       "<sklearn.metrics._plot.confusion_matrix.ConfusionMatrixDisplay at 0x26a3a80de50>"
      ]
     },
     "execution_count": 32,
     "metadata": {},
     "output_type": "execute_result"
    },
    {
     "data": {
      "image/png": "[encoded data removed]",
      "text/plain": [
       "<Figure size 640x480 with 2 Axes>"
      ]
     },
     "metadata": {},
     "output_type": "display_data"
    }
   ],
   "source": [
    "svc_model = SVC()\n",
    "svc_model.fit(X_train, y_train)\n",
    "svc_pred = svc_model.predict(X_test)\n",
    "voo_confusion_mat = confusion_matrix(y_test, svc_pred)\n",
    "disp = ConfusionMatrixDisplay(confusion_matrix=voo_confusion_mat, display_labels=['not buy', 'buy' ])\n",
    "disp.plot()"
   ]
  },
  {
   "cell_type": "markdown",
   "id": "63276609",
   "metadata": {},
   "source": [
    "This is equally good as logistic regression."
   ]
  },
  {
   "cell_type": "markdown",
   "id": "e77062ec",
   "metadata": {},
   "source": [
    "## We can further improve the models by tuning some parameters"
   ]
  },
  {
   "cell_type": "markdown",
   "id": "b7f8dbcc",
   "metadata": {},
   "source": [
    "## Improve KNN"
   ]
  },
  {
   "cell_type": "code",
   "execution_count": 75,
   "id": "2f42efc8",
   "metadata": {},
   "outputs": [],
   "source": [
    "from sklearn.model_selection import GridSearchCV\n",
    "knn_grid = GridSearchCV(knn_pipe, param_grid={'knn__n_neighbors': range(1, 33, 2)}, scoring = 'roc_auc')\n",
    "knn_grid.fit(X_train, y_train)\n",
    "best_k = knn_grid.best_params_['knn__n_neighbors']\n"
   ]
  },
  {
   "cell_type": "code",
   "execution_count": 76,
   "id": "a40b390f",
   "metadata": {},
   "outputs": [
    {
     "data": {
      "text/plain": [
       "3"
      ]
     },
     "execution_count": 76,
     "metadata": {},
     "output_type": "execute_result"
    }
   ],
   "source": [
    "best_k"
   ]
  },
  {
   "cell_type": "code",
   "execution_count": 77,
   "id": "bb306eaa",
   "metadata": {},
   "outputs": [
    {
     "data": {
      "image/png": "[encoded data removed]",
      "text/plain": [
       "<Figure size 640x480 with 2 Axes>"
      ]
     },
     "metadata": {},
     "output_type": "display_data"
    }
   ],
   "source": [
    "knn_new_pipe = Pipeline([('scale', StandardScaler()), ('knn', KNeighborsClassifier(n_neighbors=3))])\n",
    "knn_new_pipe.fit(X_train, y_train)\n",
    "knn_new_preds = knn_new_pipe.predict(X_test)\n",
    "voo_confusion_mat = confusion_matrix(y_test, knn_new_preds)\n",
    "disp = ConfusionMatrixDisplay(confusion_matrix=voo_confusion_mat, display_labels=['not buy', 'buy' ])\n",
    "disp.plot()\n",
    "plt.show()"
   ]
  },
  {
   "cell_type": "markdown",
   "id": "47e9fa3a",
   "metadata": {},
   "source": [
    "## Improving Logistic Regression"
   ]
  },
  {
   "cell_type": "code",
   "execution_count": 78,
   "id": "cd372c2a",
   "metadata": {},
   "outputs": [],
   "source": [
    "scaler = StandardScaler()\n",
    "scaled_X_train = scaler.fit_transform(X_train)\n",
    "scaled_X_test = scaler.transform(X_test)\n"
   ]
  },
  {
   "cell_type": "code",
   "execution_count": 79,
   "id": "28cf69e0",
   "metadata": {},
   "outputs": [
    {
     "name": "stdout",
     "output_type": "stream",
     "text": [
      "[[0. 0. 0. 0. 0.]]\n",
      "[[0. 0. 0. 0. 0.]]\n",
      "[[0. 0. 0. 0. 0.]]\n",
      "[[0. 0. 0. 0. 0.]]\n",
      "[[0. 0. 0. 0. 0.]]\n",
      "[[0. 0. 0. 0. 0.]]\n",
      "[[0. 0. 0. 0. 0.]]\n",
      "[[0. 0. 0. 0. 0.]]\n",
      "[[0. 0. 0. 0. 0.]]\n",
      "[[0. 0. 0. 0. 0.]]\n",
      "[[0. 0. 0. 0. 0.]]\n",
      "[[0. 0. 0. 0. 0.]]\n",
      "[[ 0.          0.          0.          0.         -0.00437349]]\n",
      "[[ 0.          0.          0.          0.         -0.09952143]]\n",
      "[[ 0.          0.          0.          0.         -0.19132824]]\n",
      "[[ 0.          0.          0.          0.         -0.27947176]]\n",
      "[[ 0.         0.         0.         0.        -0.3635266]]\n",
      "[[ 0.         0.         0.         0.        -0.4430136]]\n",
      "[[ 0.          0.          0.          0.         -0.51749034]]\n",
      "[[ 0.         0.         0.         0.        -0.5865394]]\n",
      "[[ 0.          0.          0.          0.         -0.64990408]]\n",
      "[[ 0.          0.          0.          0.         -0.70752124]]\n",
      "[[ 0.          0.          0.          0.         -0.75928528]]\n",
      "[[ 0.         0.         0.         0.        -0.8053858]]\n",
      "[[ 0.          0.          0.          0.         -0.84603751]]\n",
      "[[ 0.          0.          0.          0.         -0.88162713]]\n",
      "[[ 0.0727225   0.          0.          0.         -0.97161653]]\n",
      "[[ 0.1736918  0.         0.         0.        -1.0798047]]\n",
      "[[ 0.2594257   0.          0.          0.         -1.17149227]]\n",
      "[[ 0.33028777  0.00217662  0.          0.         -1.24946672]]\n",
      "[[ 0.35288081  0.06451694  0.         -0.04746119 -1.29068402]]\n",
      "[[ 0.37326276  0.13595295  0.         -0.15346651 -1.2801081 ]]\n",
      "[[ 0.39075166  0.19580009  0.         -0.2427259  -1.27109952]]\n",
      "[[ 0.40559451  0.24600005  0.         -0.317824   -1.26342929]]\n",
      "[[ 0.41804267  0.28815051  0.         -0.38105338 -1.25678889]]\n",
      "[[ 0.42877496  0.32303528  0.         -0.4335633  -1.25148883]]\n",
      "[[ 0.43784929  0.35217203  0.         -0.47768937 -1.24688917]]\n",
      "[[ 0.44532386  0.37657287  0.         -0.51452765 -1.24303086]]\n",
      "[[ 0.45174304  0.39675469  0.         -0.54524879 -1.23979528]]\n",
      "[[ 0.45734714  0.41309972  0.         -0.57032796 -1.23744432]]\n",
      "[[ 0.46175792  0.42697948  0.         -0.59092802 -1.23573013]]\n",
      "[[ 0.46560601  0.43731222  0.00240102 -0.60998975 -1.23380492]]\n",
      "[[ 0.47358322  0.42836427  0.03177169 -0.64421251 -1.22888453]]\n",
      "[[ 0.48050628  0.42039451  0.05656218 -0.6727606  -1.22484985]]\n",
      "[[ 0.4862586   0.41381448  0.07708884 -0.69635113 -1.22155323]]\n",
      "[[ 0.49119952  0.40812028  0.09439437 -0.71632937 -1.21865208]]\n",
      "[[ 0.49514347  0.40357884  0.10851317 -0.73258114 -1.21638416]]\n",
      "[[ 0.49850984  0.39973254  0.12033582 -0.74618463 -1.21445911]]\n",
      "[[ 0.50127075  0.39657516  0.13007068 -0.75739878 -1.21287942]]\n",
      "[[ 0.50359061  0.39388579  0.13821884 -0.7668078  -1.21149771]]\n"
     ]
    }
   ],
   "source": [
    "import numpy as np\n",
    "\n",
    "Cs = np.logspace(-2, 2)\n",
    "coef_list = []\n",
    "\n",
    "for C in Cs:\n",
    "    lgr = LogisticRegression(penalty = 'l1', solver = 'liblinear', C = C, random_state=42, max_iter = 1000).fit(scaled_X_train, y_train)\n",
    "    coef_list.append(list(lgr.coef_[0]))\n",
    "    print(lgr.coef_)\n"
   ]
  },
  {
   "cell_type": "code",
   "execution_count": 80,
   "id": "0a50042b",
   "metadata": {},
   "outputs": [
    {
     "data": {
      "text/plain": [
       "array([1.00000000e-02, 1.20679264e-02, 1.45634848e-02, 1.75751062e-02,\n",
       "       2.12095089e-02, 2.55954792e-02, 3.08884360e-02, 3.72759372e-02,\n",
       "       4.49843267e-02, 5.42867544e-02, 6.55128557e-02, 7.90604321e-02,\n",
       "       9.54095476e-02, 1.15139540e-01, 1.38949549e-01, 1.67683294e-01,\n",
       "       2.02358965e-01, 2.44205309e-01, 2.94705170e-01, 3.55648031e-01,\n",
       "       4.29193426e-01, 5.17947468e-01, 6.25055193e-01, 7.54312006e-01,\n",
       "       9.10298178e-01, 1.09854114e+00, 1.32571137e+00, 1.59985872e+00,\n",
       "       1.93069773e+00, 2.32995181e+00, 2.81176870e+00, 3.39322177e+00,\n",
       "       4.09491506e+00, 4.94171336e+00, 5.96362332e+00, 7.19685673e+00,\n",
       "       8.68511374e+00, 1.04811313e+01, 1.26485522e+01, 1.52641797e+01,\n",
       "       1.84206997e+01, 2.22299648e+01, 2.68269580e+01, 3.23745754e+01,\n",
       "       3.90693994e+01, 4.71486636e+01, 5.68986603e+01, 6.86648845e+01,\n",
       "       8.28642773e+01, 1.00000000e+02])"
      ]
     },
     "execution_count": 80,
     "metadata": {},
     "output_type": "execute_result"
    }
   ],
   "source": [
    "np.logspace(-2, 2)"
   ]
  },
  {
   "cell_type": "code",
   "execution_count": 81,
   "id": "f432b732",
   "metadata": {},
   "outputs": [],
   "source": [
    "new_lgr = LogisticRegression(penalty = 'l1', solver = 'liblinear', C = 0.01, random_state=42, max_iter = 1000).fit(scaled_X_train, y_train)\n"
   ]
  },
  {
   "cell_type": "code",
   "execution_count": 82,
   "id": "b271f34b",
   "metadata": {},
   "outputs": [],
   "source": [
    "new_log_preds = new_lgr.predict(scaled_X_test)\n"
   ]
  },
  {
   "cell_type": "code",
   "execution_count": 83,
   "id": "05783b0d",
   "metadata": {},
   "outputs": [
    {
     "data": {
      "image/png": "[encoded data removed]",
      "text/plain": [
       "<Figure size 640x480 with 2 Axes>"
      ]
     },
     "metadata": {},
     "output_type": "display_data"
    }
   ],
   "source": [
    "voo_confusion_mat = confusion_matrix(y_test, new_log_preds)\n",
    "disp = ConfusionMatrixDisplay(confusion_matrix=voo_confusion_mat, display_labels=['not buy', 'buy' ])\n",
    "disp.plot()\n",
    "plt.show()\n"
   ]
  },
  {
   "cell_type": "markdown",
   "id": "e1dc849c",
   "metadata": {},
   "source": [
    "After tuning some parameters, it does not seems like it offer any improvement"
   ]
  },
  {
   "cell_type": "markdown",
   "id": "8a31e48f",
   "metadata": {},
   "source": [
    "## Improving Decision Tree\n"
   ]
  },
  {
   "cell_type": "code",
   "execution_count": 84,
   "id": "6378445c",
   "metadata": {},
   "outputs": [],
   "source": [
    "params = {'min_impurity_decrease': [0.01, 0.02, 0.03, 0.05],\n",
    "         'max_depth': [2, 5, 10],\n",
    "         'min_samples_split': [0.1, 0.2, 0.05]}"
   ]
  },
  {
   "cell_type": "code",
   "execution_count": 85,
   "id": "ad3c5626",
   "metadata": {},
   "outputs": [],
   "source": [
    "new_tree_grid = GridSearchCV(DecisionTreeClassifier(random_state = 42), param_grid=params).fit(X_train, y_train)\n"
   ]
  },
  {
   "cell_type": "code",
   "execution_count": 86,
   "id": "d26bcea9",
   "metadata": {},
   "outputs": [],
   "source": [
    "new_tree_pred = new_tree_grid.predict(X_test)"
   ]
  },
  {
   "cell_type": "code",
   "execution_count": 87,
   "id": "951a8d9d",
   "metadata": {},
   "outputs": [
    {
     "data": {
      "image/png": "[encoded data removed]",
      "text/plain": [
       "<Figure size 640x480 with 2 Axes>"
      ]
     },
     "metadata": {},
     "output_type": "display_data"
    }
   ],
   "source": [
    "voo_confusion_mat = confusion_matrix(y_test, new_tree_pred)\n",
    "disp = ConfusionMatrixDisplay(confusion_matrix=voo_confusion_mat, display_labels=['not buy', 'buy' ])\n",
    "disp.plot()\n",
    "plt.show()\n"
   ]
  },
  {
   "cell_type": "markdown",
   "id": "58a5960a",
   "metadata": {},
   "source": [
    "The devision tree models has improved."
   ]
  },
  {
   "cell_type": "markdown",
   "id": "e057b82f",
   "metadata": {},
   "source": [
    "## Improving SVM"
   ]
  },
  {
   "cell_type": "code",
   "execution_count": 88,
   "id": "86457734",
   "metadata": {},
   "outputs": [],
   "source": [
    "params = {'kernel': ['rbf', 'poly', 'linear', 'sigmoid']}"
   ]
  },
  {
   "cell_type": "code",
   "execution_count": 89,
   "id": "007f7dd8",
   "metadata": {},
   "outputs": [
    {
     "data": {
      "image/png": "[encoded data removed]",
      "text/plain": [
       "<Figure size 640x480 with 2 Axes>"
      ]
     },
     "metadata": {},
     "output_type": "display_data"
    }
   ],
   "source": [
    "svc_grid = GridSearchCV(SVC(), param_grid=params).fit(X_train, y_train)\n",
    "svc_grid.fit(X_train, y_train)\n",
    "svc_new_pred = svc_grid.predict(X_test)\n",
    "voo_confusion_mat = confusion_matrix(y_test, svc_new_pred)\n",
    "disp = ConfusionMatrixDisplay(confusion_matrix=voo_confusion_mat, display_labels=['not buy', 'buy' ])\n",
    "disp.plot()\n",
    "plt.show()\n"
   ]
  },
  {
   "cell_type": "markdown",
   "id": "b0eba2d2",
   "metadata": {},
   "source": [
    "From this analysis, we see that for ETF which is relatively stable in price, it is easy for the model to not recommend trade as it won't have enought momentum for us to take advantage. Almost all model with or without tweak give us good results."
   ]
  },
  {
   "cell_type": "code",
   "execution_count": null,
   "id": "c9749e00",
   "metadata": {},
   "outputs": [],
   "source": []
  },
  {
   "cell_type": "code",
   "execution_count": null,
   "id": "b94a34c7",
   "metadata": {},
   "outputs": [],
   "source": []
  }
 ],
 "metadata": {
  "kernelspec": {
   "display_name": "Python 3 (ipykernel)",
   "language": "python",
   "name": "python3"
  },
  "language_info": {
   "codemirror_mode": {
    "name": "ipython",
    "version": 3
   },
   "file_extension": ".py",
   "mimetype": "text/x-python",
   "name": "python",
   "nbconvert_exporter": "python",
   "pygments_lexer": "ipython3",
   "version": "3.11.3"
  }
 },
 "nbformat": 4,
 "nbformat_minor": 5
}
