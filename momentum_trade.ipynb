{
 "cells": [
  {
   "cell_type": "markdown",
   "id": "4b69425f",
   "metadata": {},
   "source": [
    "# Momentum trade model for ETF funds"
   ]
  },
  {
   "cell_type": "code",
   "execution_count": 1,
   "id": "df31ab3d",
   "metadata": {},
   "outputs": [],
   "source": [
    "import yfinance as yf\n",
    "import pandas as pd"
   ]
  },
  {
   "cell_type": "markdown",
   "id": "8618c72a",
   "metadata": {},
   "source": [
    "### example, we pick a well known S&P 500 ETF fund"
   ]
  },
  {
   "cell_type": "code",
   "execution_count": 2,
   "id": "f584caaf",
   "metadata": {},
   "outputs": [
    {
     "name": "stdout",
     "output_type": "stream",
     "text": [
      "[*********************100%%**********************]  1 of 1 completed\n"
     ]
    }
   ],
   "source": [
    "data = yf.download(\"VOO\", period='12mo')"
   ]
  },
  {
   "cell_type": "code",
   "execution_count": 3,
   "id": "1097ac4d",
   "metadata": {},
   "outputs": [
    {
     "data": {
      "text/html": [
       "<div>\n",
       "<style scoped>\n",
       "    .dataframe tbody tr th:only-of-type {\n",
       "        vertical-align: middle;\n",
       "    }\n",
       "\n",
       "    .dataframe tbody tr th {\n",
       "        vertical-align: top;\n",
       "    }\n",
       "\n",
       "    .dataframe thead th {\n",
       "        text-align: right;\n",
       "    }\n",
       "</style>\n",
       "<table border=\"1\" class=\"dataframe\">\n",
       "  <thead>\n",
       "    <tr style=\"text-align: right;\">\n",
       "      <th></th>\n",
       "      <th>Open</th>\n",
       "      <th>High</th>\n",
       "      <th>Low</th>\n",
       "      <th>Close</th>\n",
       "      <th>Adj Close</th>\n",
       "      <th>Volume</th>\n",
       "    </tr>\n",
       "    <tr>\n",
       "      <th>Date</th>\n",
       "      <th></th>\n",
       "      <th></th>\n",
       "      <th></th>\n",
       "      <th></th>\n",
       "      <th></th>\n",
       "      <th></th>\n",
       "    </tr>\n",
       "  </thead>\n",
       "  <tbody>\n",
       "    <tr>\n",
       "      <th>2023-02-17</th>\n",
       "      <td>373.179993</td>\n",
       "      <td>374.450012</td>\n",
       "      <td>371.320007</td>\n",
       "      <td>374.220001</td>\n",
       "      <td>368.295624</td>\n",
       "      <td>3285300</td>\n",
       "    </tr>\n",
       "    <tr>\n",
       "      <th>2023-02-21</th>\n",
       "      <td>370.399994</td>\n",
       "      <td>371.339996</td>\n",
       "      <td>366.480011</td>\n",
       "      <td>366.790009</td>\n",
       "      <td>360.983246</td>\n",
       "      <td>3109200</td>\n",
       "    </tr>\n",
       "    <tr>\n",
       "      <th>2023-02-22</th>\n",
       "      <td>367.179993</td>\n",
       "      <td>368.600006</td>\n",
       "      <td>364.839996</td>\n",
       "      <td>366.329987</td>\n",
       "      <td>360.530518</td>\n",
       "      <td>3872000</td>\n",
       "    </tr>\n",
       "    <tr>\n",
       "      <th>2023-02-23</th>\n",
       "      <td>369.070007</td>\n",
       "      <td>369.570007</td>\n",
       "      <td>364.130005</td>\n",
       "      <td>368.170013</td>\n",
       "      <td>362.341400</td>\n",
       "      <td>2867200</td>\n",
       "    </tr>\n",
       "    <tr>\n",
       "      <th>2023-02-24</th>\n",
       "      <td>363.309998</td>\n",
       "      <td>365.029999</td>\n",
       "      <td>361.730011</td>\n",
       "      <td>364.230011</td>\n",
       "      <td>358.463806</td>\n",
       "      <td>4055000</td>\n",
       "    </tr>\n",
       "    <tr>\n",
       "      <th>2023-02-27</th>\n",
       "      <td>367.489990</td>\n",
       "      <td>368.769989</td>\n",
       "      <td>364.589996</td>\n",
       "      <td>365.489990</td>\n",
       "      <td>359.703796</td>\n",
       "      <td>3300100</td>\n",
       "    </tr>\n",
       "    <tr>\n",
       "      <th>2023-02-28</th>\n",
       "      <td>365.010010</td>\n",
       "      <td>366.859985</td>\n",
       "      <td>364.049988</td>\n",
       "      <td>364.109985</td>\n",
       "      <td>358.345673</td>\n",
       "      <td>3022200</td>\n",
       "    </tr>\n",
       "    <tr>\n",
       "      <th>2023-03-01</th>\n",
       "      <td>363.339996</td>\n",
       "      <td>364.510010</td>\n",
       "      <td>361.450012</td>\n",
       "      <td>362.779999</td>\n",
       "      <td>357.036743</td>\n",
       "      <td>3764700</td>\n",
       "    </tr>\n",
       "    <tr>\n",
       "      <th>2023-03-02</th>\n",
       "      <td>360.809998</td>\n",
       "      <td>366.359985</td>\n",
       "      <td>360.529999</td>\n",
       "      <td>365.489990</td>\n",
       "      <td>359.703796</td>\n",
       "      <td>2727200</td>\n",
       "    </tr>\n",
       "    <tr>\n",
       "      <th>2023-03-03</th>\n",
       "      <td>367.290009</td>\n",
       "      <td>371.670013</td>\n",
       "      <td>366.700012</td>\n",
       "      <td>371.279999</td>\n",
       "      <td>365.402161</td>\n",
       "      <td>4913600</td>\n",
       "    </tr>\n",
       "  </tbody>\n",
       "</table>\n",
       "</div>"
      ],
      "text/plain": [
       "                  Open        High         Low       Close   Adj Close  \\\n",
       "Date                                                                     \n",
       "2023-02-17  373.179993  374.450012  371.320007  374.220001  368.295624   \n",
       "2023-02-21  370.399994  371.339996  366.480011  366.790009  360.983246   \n",
       "2023-02-22  367.179993  368.600006  364.839996  366.329987  360.530518   \n",
       "2023-02-23  369.070007  369.570007  364.130005  368.170013  362.341400   \n",
       "2023-02-24  363.309998  365.029999  361.730011  364.230011  358.463806   \n",
       "2023-02-27  367.489990  368.769989  364.589996  365.489990  359.703796   \n",
       "2023-02-28  365.010010  366.859985  364.049988  364.109985  358.345673   \n",
       "2023-03-01  363.339996  364.510010  361.450012  362.779999  357.036743   \n",
       "2023-03-02  360.809998  366.359985  360.529999  365.489990  359.703796   \n",
       "2023-03-03  367.290009  371.670013  366.700012  371.279999  365.402161   \n",
       "\n",
       "             Volume  \n",
       "Date                 \n",
       "2023-02-17  3285300  \n",
       "2023-02-21  3109200  \n",
       "2023-02-22  3872000  \n",
       "2023-02-23  2867200  \n",
       "2023-02-24  4055000  \n",
       "2023-02-27  3300100  \n",
       "2023-02-28  3022200  \n",
       "2023-03-01  3764700  \n",
       "2023-03-02  2727200  \n",
       "2023-03-03  4913600  "
      ]
     },
     "execution_count": 3,
     "metadata": {},
     "output_type": "execute_result"
    }
   ],
   "source": [
    "data.head(10)"
   ]
  },
  {
   "cell_type": "markdown",
   "id": "0628f84d",
   "metadata": {},
   "source": [
    "## Problem statement\n",
    "\n",
    "Given the last 5 days closing price (day1 to day5), if you buy at the opening on the next day (day6) , would you be able to make 3% gain in the next 5 days (day6 to day10) ? i.e., by just looking at the closing price of the last 5 days, should i place a trade on day6 with the hope of getting a 3% return on the next 5 days ? "
   ]
  },
  {
   "cell_type": "markdown",
   "id": "ae7c5ad8",
   "metadata": {},
   "source": [
    "###  Create the input data frame. i.e. day1 to day5 dataframe"
   ]
  },
  {
   "cell_type": "code",
   "execution_count": 4,
   "id": "dea8cd53",
   "metadata": {},
   "outputs": [],
   "source": [
    "past_data = pd.DataFrame()"
   ]
  },
  {
   "cell_type": "code",
   "execution_count": 5,
   "id": "5c12d74f",
   "metadata": {},
   "outputs": [],
   "source": [
    "past_data['day1'] = data[['Close']].shift(9,axis=0)\n",
    "past_data['day2'] = data[['Close']].shift(8,axis=0)\n",
    "past_data['day3'] = data[['Close']].shift(7,axis=0)\n",
    "past_data['day4'] = data[['Close']].shift(6,axis=0)\n",
    "past_data['day5'] = data[['Close']].shift(5,axis=0)\n",
    "past_data = past_data.reset_index()\n",
    "past_data = past_data.drop(['Date'],axis=1)\n",
    "past_data = past_data.drop([0,1,2,3,4,5,6,7,8,9])"
   ]
  },
  {
   "cell_type": "code",
   "execution_count": 6,
   "id": "169458df",
   "metadata": {},
   "outputs": [
    {
     "data": {
      "text/html": [
       "<div>\n",
       "<style scoped>\n",
       "    .dataframe tbody tr th:only-of-type {\n",
       "        vertical-align: middle;\n",
       "    }\n",
       "\n",
       "    .dataframe tbody tr th {\n",
       "        vertical-align: top;\n",
       "    }\n",
       "\n",
       "    .dataframe thead th {\n",
       "        text-align: right;\n",
       "    }\n",
       "</style>\n",
       "<table border=\"1\" class=\"dataframe\">\n",
       "  <thead>\n",
       "    <tr style=\"text-align: right;\">\n",
       "      <th></th>\n",
       "      <th>day1</th>\n",
       "      <th>day2</th>\n",
       "      <th>day3</th>\n",
       "      <th>day4</th>\n",
       "      <th>day5</th>\n",
       "    </tr>\n",
       "  </thead>\n",
       "  <tbody>\n",
       "    <tr>\n",
       "      <th>10</th>\n",
       "      <td>366.790009</td>\n",
       "      <td>366.329987</td>\n",
       "      <td>368.170013</td>\n",
       "      <td>364.230011</td>\n",
       "      <td>365.489990</td>\n",
       "    </tr>\n",
       "    <tr>\n",
       "      <th>11</th>\n",
       "      <td>366.329987</td>\n",
       "      <td>368.170013</td>\n",
       "      <td>364.230011</td>\n",
       "      <td>365.489990</td>\n",
       "      <td>364.109985</td>\n",
       "    </tr>\n",
       "    <tr>\n",
       "      <th>12</th>\n",
       "      <td>368.170013</td>\n",
       "      <td>364.230011</td>\n",
       "      <td>365.489990</td>\n",
       "      <td>364.109985</td>\n",
       "      <td>362.779999</td>\n",
       "    </tr>\n",
       "    <tr>\n",
       "      <th>13</th>\n",
       "      <td>364.230011</td>\n",
       "      <td>365.489990</td>\n",
       "      <td>364.109985</td>\n",
       "      <td>362.779999</td>\n",
       "      <td>365.489990</td>\n",
       "    </tr>\n",
       "    <tr>\n",
       "      <th>14</th>\n",
       "      <td>365.489990</td>\n",
       "      <td>364.109985</td>\n",
       "      <td>362.779999</td>\n",
       "      <td>365.489990</td>\n",
       "      <td>371.279999</td>\n",
       "    </tr>\n",
       "    <tr>\n",
       "      <th>15</th>\n",
       "      <td>364.109985</td>\n",
       "      <td>362.779999</td>\n",
       "      <td>365.489990</td>\n",
       "      <td>371.279999</td>\n",
       "      <td>371.730011</td>\n",
       "    </tr>\n",
       "    <tr>\n",
       "      <th>16</th>\n",
       "      <td>362.779999</td>\n",
       "      <td>365.489990</td>\n",
       "      <td>371.279999</td>\n",
       "      <td>371.730011</td>\n",
       "      <td>365.980011</td>\n",
       "    </tr>\n",
       "    <tr>\n",
       "      <th>17</th>\n",
       "      <td>365.489990</td>\n",
       "      <td>371.279999</td>\n",
       "      <td>371.730011</td>\n",
       "      <td>365.980011</td>\n",
       "      <td>366.549988</td>\n",
       "    </tr>\n",
       "    <tr>\n",
       "      <th>18</th>\n",
       "      <td>371.279999</td>\n",
       "      <td>371.730011</td>\n",
       "      <td>365.980011</td>\n",
       "      <td>366.549988</td>\n",
       "      <td>359.839996</td>\n",
       "    </tr>\n",
       "    <tr>\n",
       "      <th>19</th>\n",
       "      <td>371.730011</td>\n",
       "      <td>365.980011</td>\n",
       "      <td>366.549988</td>\n",
       "      <td>359.839996</td>\n",
       "      <td>354.679993</td>\n",
       "    </tr>\n",
       "  </tbody>\n",
       "</table>\n",
       "</div>"
      ],
      "text/plain": [
       "          day1        day2        day3        day4        day5\n",
       "10  366.790009  366.329987  368.170013  364.230011  365.489990\n",
       "11  366.329987  368.170013  364.230011  365.489990  364.109985\n",
       "12  368.170013  364.230011  365.489990  364.109985  362.779999\n",
       "13  364.230011  365.489990  364.109985  362.779999  365.489990\n",
       "14  365.489990  364.109985  362.779999  365.489990  371.279999\n",
       "15  364.109985  362.779999  365.489990  371.279999  371.730011\n",
       "16  362.779999  365.489990  371.279999  371.730011  365.980011\n",
       "17  365.489990  371.279999  371.730011  365.980011  366.549988\n",
       "18  371.279999  371.730011  365.980011  366.549988  359.839996\n",
       "19  371.730011  365.980011  366.549988  359.839996  354.679993"
      ]
     },
     "execution_count": 6,
     "metadata": {},
     "output_type": "execute_result"
    }
   ],
   "source": [
    "past_data.head(10)"
   ]
  },
  {
   "cell_type": "markdown",
   "id": "c603de18",
   "metadata": {},
   "source": [
    "### get the maximum price the stock will reach on day6 to day10"
   ]
  },
  {
   "cell_type": "code",
   "execution_count": 7,
   "id": "855f2436",
   "metadata": {},
   "outputs": [],
   "source": [
    "future_data = pd.DataFrame()"
   ]
  },
  {
   "cell_type": "code",
   "execution_count": 8,
   "id": "01bcae5b",
   "metadata": {},
   "outputs": [],
   "source": [
    "future_data['day6'] = data[['High']].shift(4,axis=0)\n",
    "future_data['day7'] = data[['High']].shift(3,axis=0)\n",
    "future_data['day8'] = data[['High']].shift(2,axis=0)\n",
    "future_data['day9'] = data[['High']].shift(1,axis=0)\n",
    "future_data['day10'] = data[['High']]\n",
    "future_data = future_data.reset_index()\n",
    "future_data = future_data.drop(['Date'],axis=1)\n",
    "future_data = future_data.drop([0,1,2,3,4,5,6,7,8,9])\n"
   ]
  },
  {
   "cell_type": "code",
   "execution_count": 9,
   "id": "5c5b0be0",
   "metadata": {},
   "outputs": [
    {
     "data": {
      "text/html": [
       "<div>\n",
       "<style scoped>\n",
       "    .dataframe tbody tr th:only-of-type {\n",
       "        vertical-align: middle;\n",
       "    }\n",
       "\n",
       "    .dataframe tbody tr th {\n",
       "        vertical-align: top;\n",
       "    }\n",
       "\n",
       "    .dataframe thead th {\n",
       "        text-align: right;\n",
       "    }\n",
       "</style>\n",
       "<table border=\"1\" class=\"dataframe\">\n",
       "  <thead>\n",
       "    <tr style=\"text-align: right;\">\n",
       "      <th></th>\n",
       "      <th>day6</th>\n",
       "      <th>day7</th>\n",
       "      <th>day8</th>\n",
       "      <th>day9</th>\n",
       "      <th>day10</th>\n",
       "    </tr>\n",
       "  </thead>\n",
       "  <tbody>\n",
       "    <tr>\n",
       "      <th>10</th>\n",
       "      <td>366.859985</td>\n",
       "      <td>364.510010</td>\n",
       "      <td>366.359985</td>\n",
       "      <td>371.670013</td>\n",
       "      <td>374.440002</td>\n",
       "    </tr>\n",
       "    <tr>\n",
       "      <th>11</th>\n",
       "      <td>364.510010</td>\n",
       "      <td>366.359985</td>\n",
       "      <td>371.670013</td>\n",
       "      <td>374.440002</td>\n",
       "      <td>371.890015</td>\n",
       "    </tr>\n",
       "    <tr>\n",
       "      <th>12</th>\n",
       "      <td>366.359985</td>\n",
       "      <td>371.670013</td>\n",
       "      <td>374.440002</td>\n",
       "      <td>371.890015</td>\n",
       "      <td>367.299988</td>\n",
       "    </tr>\n",
       "    <tr>\n",
       "      <th>13</th>\n",
       "      <td>371.670013</td>\n",
       "      <td>374.440002</td>\n",
       "      <td>371.890015</td>\n",
       "      <td>367.299988</td>\n",
       "      <td>368.880005</td>\n",
       "    </tr>\n",
       "    <tr>\n",
       "      <th>14</th>\n",
       "      <td>374.440002</td>\n",
       "      <td>371.890015</td>\n",
       "      <td>367.299988</td>\n",
       "      <td>368.880005</td>\n",
       "      <td>361.239990</td>\n",
       "    </tr>\n",
       "  </tbody>\n",
       "</table>\n",
       "</div>"
      ],
      "text/plain": [
       "          day6        day7        day8        day9       day10\n",
       "10  366.859985  364.510010  366.359985  371.670013  374.440002\n",
       "11  364.510010  366.359985  371.670013  374.440002  371.890015\n",
       "12  366.359985  371.670013  374.440002  371.890015  367.299988\n",
       "13  371.670013  374.440002  371.890015  367.299988  368.880005\n",
       "14  374.440002  371.890015  367.299988  368.880005  361.239990"
      ]
     },
     "execution_count": 9,
     "metadata": {},
     "output_type": "execute_result"
    }
   ],
   "source": [
    "future_data.head(5)"
   ]
  },
  {
   "cell_type": "code",
   "execution_count": 10,
   "id": "dc1ed143",
   "metadata": {},
   "outputs": [],
   "source": [
    "next_five_days_max = pd.DataFrame()"
   ]
  },
  {
   "cell_type": "code",
   "execution_count": 11,
   "id": "e7c1a1e9",
   "metadata": {},
   "outputs": [],
   "source": [
    "next_five_days_max['future_max'] = future_data[[\"day6\", \"day7\", \"day8\", \"day9\", \"day10\"]].max(axis=1)"
   ]
  },
  {
   "cell_type": "markdown",
   "id": "7589ac87",
   "metadata": {},
   "source": [
    "### get the opening price of day 6"
   ]
  },
  {
   "cell_type": "code",
   "execution_count": 12,
   "id": "6c9a28c7",
   "metadata": {},
   "outputs": [],
   "source": [
    "day6_open = pd.DataFrame()"
   ]
  },
  {
   "cell_type": "code",
   "execution_count": 13,
   "id": "c6367279",
   "metadata": {},
   "outputs": [],
   "source": [
    "day6_open['day6_open'] = data[['Open']].shift(4,axis=0)\n",
    "day6_open = day6_open.reset_index()\n",
    "day6_open = day6_open.drop(['Date'],axis=1)\n",
    "day6_open = day6_open.drop([0,1,2,3,4,5,6,7,8,9])"
   ]
  },
  {
   "cell_type": "code",
   "execution_count": 14,
   "id": "4866d3f9",
   "metadata": {},
   "outputs": [
    {
     "data": {
      "text/html": [
       "<div>\n",
       "<style scoped>\n",
       "    .dataframe tbody tr th:only-of-type {\n",
       "        vertical-align: middle;\n",
       "    }\n",
       "\n",
       "    .dataframe tbody tr th {\n",
       "        vertical-align: top;\n",
       "    }\n",
       "\n",
       "    .dataframe thead th {\n",
       "        text-align: right;\n",
       "    }\n",
       "</style>\n",
       "<table border=\"1\" class=\"dataframe\">\n",
       "  <thead>\n",
       "    <tr style=\"text-align: right;\">\n",
       "      <th></th>\n",
       "      <th>day6_open</th>\n",
       "    </tr>\n",
       "  </thead>\n",
       "  <tbody>\n",
       "    <tr>\n",
       "      <th>10</th>\n",
       "      <td>365.010010</td>\n",
       "    </tr>\n",
       "    <tr>\n",
       "      <th>11</th>\n",
       "      <td>363.339996</td>\n",
       "    </tr>\n",
       "    <tr>\n",
       "      <th>12</th>\n",
       "      <td>360.809998</td>\n",
       "    </tr>\n",
       "    <tr>\n",
       "      <th>13</th>\n",
       "      <td>367.290009</td>\n",
       "    </tr>\n",
       "    <tr>\n",
       "      <th>14</th>\n",
       "      <td>372.260010</td>\n",
       "    </tr>\n",
       "    <tr>\n",
       "      <th>15</th>\n",
       "      <td>371.630005</td>\n",
       "    </tr>\n",
       "    <tr>\n",
       "      <th>16</th>\n",
       "      <td>366.109985</td>\n",
       "    </tr>\n",
       "    <tr>\n",
       "      <th>17</th>\n",
       "      <td>367.350006</td>\n",
       "    </tr>\n",
       "    <tr>\n",
       "      <th>18</th>\n",
       "      <td>359.329987</td>\n",
       "    </tr>\n",
       "    <tr>\n",
       "      <th>19</th>\n",
       "      <td>350.760010</td>\n",
       "    </tr>\n",
       "  </tbody>\n",
       "</table>\n",
       "</div>"
      ],
      "text/plain": [
       "     day6_open\n",
       "10  365.010010\n",
       "11  363.339996\n",
       "12  360.809998\n",
       "13  367.290009\n",
       "14  372.260010\n",
       "15  371.630005\n",
       "16  366.109985\n",
       "17  367.350006\n",
       "18  359.329987\n",
       "19  350.760010"
      ]
     },
     "execution_count": 14,
     "metadata": {},
     "output_type": "execute_result"
    }
   ],
   "source": [
    "day6_open.head(10)"
   ]
  },
  {
   "cell_type": "markdown",
   "id": "24b952c2",
   "metadata": {},
   "source": [
    "### calculate the percentage gain from day6 open to the max from day6 to day10"
   ]
  },
  {
   "cell_type": "code",
   "execution_count": 15,
   "id": "1e5e550d",
   "metadata": {},
   "outputs": [],
   "source": [
    "gain_percent =pd.DataFrame()"
   ]
  },
  {
   "cell_type": "code",
   "execution_count": 16,
   "id": "2a6bda9d",
   "metadata": {},
   "outputs": [
    {
     "data": {
      "text/html": [
       "<div>\n",
       "<style scoped>\n",
       "    .dataframe tbody tr th:only-of-type {\n",
       "        vertical-align: middle;\n",
       "    }\n",
       "\n",
       "    .dataframe tbody tr th {\n",
       "        vertical-align: top;\n",
       "    }\n",
       "\n",
       "    .dataframe thead th {\n",
       "        text-align: right;\n",
       "    }\n",
       "</style>\n",
       "<table border=\"1\" class=\"dataframe\">\n",
       "  <thead>\n",
       "    <tr style=\"text-align: right;\">\n",
       "      <th></th>\n",
       "      <th>future_max</th>\n",
       "    </tr>\n",
       "  </thead>\n",
       "  <tbody>\n",
       "    <tr>\n",
       "      <th>10</th>\n",
       "      <td>374.440002</td>\n",
       "    </tr>\n",
       "    <tr>\n",
       "      <th>11</th>\n",
       "      <td>374.440002</td>\n",
       "    </tr>\n",
       "    <tr>\n",
       "      <th>12</th>\n",
       "      <td>374.440002</td>\n",
       "    </tr>\n",
       "    <tr>\n",
       "      <th>13</th>\n",
       "      <td>374.440002</td>\n",
       "    </tr>\n",
       "    <tr>\n",
       "      <th>14</th>\n",
       "      <td>374.440002</td>\n",
       "    </tr>\n",
       "  </tbody>\n",
       "</table>\n",
       "</div>"
      ],
      "text/plain": [
       "    future_max\n",
       "10  374.440002\n",
       "11  374.440002\n",
       "12  374.440002\n",
       "13  374.440002\n",
       "14  374.440002"
      ]
     },
     "execution_count": 16,
     "metadata": {},
     "output_type": "execute_result"
    }
   ],
   "source": [
    "next_five_days_max.head()"
   ]
  },
  {
   "cell_type": "code",
   "execution_count": 17,
   "id": "8b7443d0",
   "metadata": {},
   "outputs": [],
   "source": [
    "gain_percent['gain'] = next_five_days_max['future_max'] - day6_open['day6_open']\n",
    "gain_percent['gain'] = gain_percent['gain']/day6_open['day6_open']"
   ]
  },
  {
   "cell_type": "code",
   "execution_count": 18,
   "id": "a4316093",
   "metadata": {},
   "outputs": [
    {
     "data": {
      "text/html": [
       "<div>\n",
       "<style scoped>\n",
       "    .dataframe tbody tr th:only-of-type {\n",
       "        vertical-align: middle;\n",
       "    }\n",
       "\n",
       "    .dataframe tbody tr th {\n",
       "        vertical-align: top;\n",
       "    }\n",
       "\n",
       "    .dataframe thead th {\n",
       "        text-align: right;\n",
       "    }\n",
       "</style>\n",
       "<table border=\"1\" class=\"dataframe\">\n",
       "  <thead>\n",
       "    <tr style=\"text-align: right;\">\n",
       "      <th></th>\n",
       "      <th>gain</th>\n",
       "    </tr>\n",
       "  </thead>\n",
       "  <tbody>\n",
       "    <tr>\n",
       "      <th>10</th>\n",
       "      <td>0.025835</td>\n",
       "    </tr>\n",
       "    <tr>\n",
       "      <th>11</th>\n",
       "      <td>0.030550</td>\n",
       "    </tr>\n",
       "    <tr>\n",
       "      <th>12</th>\n",
       "      <td>0.037776</td>\n",
       "    </tr>\n",
       "    <tr>\n",
       "      <th>13</th>\n",
       "      <td>0.019467</td>\n",
       "    </tr>\n",
       "    <tr>\n",
       "      <th>14</th>\n",
       "      <td>0.005856</td>\n",
       "    </tr>\n",
       "  </tbody>\n",
       "</table>\n",
       "</div>"
      ],
      "text/plain": [
       "        gain\n",
       "10  0.025835\n",
       "11  0.030550\n",
       "12  0.037776\n",
       "13  0.019467\n",
       "14  0.005856"
      ]
     },
     "execution_count": 18,
     "metadata": {},
     "output_type": "execute_result"
    }
   ],
   "source": [
    "gain_percent.head()"
   ]
  },
  {
   "cell_type": "markdown",
   "id": "c1a60a45",
   "metadata": {},
   "source": [
    "### this is the output trade or no trade on day6"
   ]
  },
  {
   "cell_type": "code",
   "execution_count": 19,
   "id": "127654f9",
   "metadata": {},
   "outputs": [],
   "source": [
    "trade = gain_percent['gain'] > 0.03"
   ]
  },
  {
   "cell_type": "code",
   "execution_count": 20,
   "id": "aa212db2",
   "metadata": {},
   "outputs": [
    {
     "data": {
      "text/plain": [
       "10    False\n",
       "11     True\n",
       "12     True\n",
       "13    False\n",
       "14    False\n",
       "Name: gain, dtype: bool"
      ]
     },
     "execution_count": 20,
     "metadata": {},
     "output_type": "execute_result"
    }
   ],
   "source": [
    "trade.head()"
   ]
  },
  {
   "cell_type": "markdown",
   "id": "f083fb0d",
   "metadata": {},
   "source": [
    "## Try to idendify buy opportunities with KNN"
   ]
  },
  {
   "cell_type": "code",
   "execution_count": 21,
   "id": "1d1a9e7d",
   "metadata": {},
   "outputs": [],
   "source": [
    "from sklearn.preprocessing import StandardScaler, OneHotEncoder\n",
    "from sklearn.pipeline import Pipeline\n",
    "from sklearn.compose import make_column_transformer\n",
    "from sklearn.neighbors import KNeighborsClassifier\n",
    "from sklearn.model_selection import train_test_split, GridSearchCV"
   ]
  },
  {
   "cell_type": "code",
   "execution_count": 22,
   "id": "95d81dfb",
   "metadata": {},
   "outputs": [],
   "source": [
    "X_train, X_test, y_train, y_test = train_test_split(past_data, trade, random_state=42)\n"
   ]
  },
  {
   "cell_type": "code",
   "execution_count": 23,
   "id": "40fa4853",
   "metadata": {},
   "outputs": [
    {
     "data": {
      "text/html": [
       "<style>#sk-container-id-1 {color: black;background-color: white;}#sk-container-id-1 pre{padding: 0;}#sk-container-id-1 div.sk-toggleable {background-color: white;}#sk-container-id-1 label.sk-toggleable__label {cursor: pointer;display: block;width: 100%;margin-bottom: 0;padding: 0.3em;box-sizing: border-box;text-align: center;}#sk-container-id-1 label.sk-toggleable__label-arrow:before {content: \"▸\";float: left;margin-right: 0.25em;color: #696969;}#sk-container-id-1 label.sk-toggleable__label-arrow:hover:before {color: black;}#sk-container-id-1 div.sk-estimator:hover label.sk-toggleable__label-arrow:before {color: black;}#sk-container-id-1 div.sk-toggleable__content {max-height: 0;max-width: 0;overflow: hidden;text-align: left;background-color: #f0f8ff;}#sk-container-id-1 div.sk-toggleable__content pre {margin: 0.2em;color: black;border-radius: 0.25em;background-color: #f0f8ff;}#sk-container-id-1 input.sk-toggleable__control:checked~div.sk-toggleable__content {max-height: 200px;max-width: 100%;overflow: auto;}#sk-container-id-1 input.sk-toggleable__control:checked~label.sk-toggleable__label-arrow:before {content: \"▾\";}#sk-container-id-1 div.sk-estimator input.sk-toggleable__control:checked~label.sk-toggleable__label {background-color: #d4ebff;}#sk-container-id-1 div.sk-label input.sk-toggleable__control:checked~label.sk-toggleable__label {background-color: #d4ebff;}#sk-container-id-1 input.sk-hidden--visually {border: 0;clip: rect(1px 1px 1px 1px);clip: rect(1px, 1px, 1px, 1px);height: 1px;margin: -1px;overflow: hidden;padding: 0;position: absolute;width: 1px;}#sk-container-id-1 div.sk-estimator {font-family: monospace;background-color: #f0f8ff;border: 1px dotted black;border-radius: 0.25em;box-sizing: border-box;margin-bottom: 0.5em;}#sk-container-id-1 div.sk-estimator:hover {background-color: #d4ebff;}#sk-container-id-1 div.sk-parallel-item::after {content: \"\";width: 100%;border-bottom: 1px solid gray;flex-grow: 1;}#sk-container-id-1 div.sk-label:hover label.sk-toggleable__label {background-color: #d4ebff;}#sk-container-id-1 div.sk-serial::before {content: \"\";position: absolute;border-left: 1px solid gray;box-sizing: border-box;top: 0;bottom: 0;left: 50%;z-index: 0;}#sk-container-id-1 div.sk-serial {display: flex;flex-direction: column;align-items: center;background-color: white;padding-right: 0.2em;padding-left: 0.2em;position: relative;}#sk-container-id-1 div.sk-item {position: relative;z-index: 1;}#sk-container-id-1 div.sk-parallel {display: flex;align-items: stretch;justify-content: center;background-color: white;position: relative;}#sk-container-id-1 div.sk-item::before, #sk-container-id-1 div.sk-parallel-item::before {content: \"\";position: absolute;border-left: 1px solid gray;box-sizing: border-box;top: 0;bottom: 0;left: 50%;z-index: -1;}#sk-container-id-1 div.sk-parallel-item {display: flex;flex-direction: column;z-index: 1;position: relative;background-color: white;}#sk-container-id-1 div.sk-parallel-item:first-child::after {align-self: flex-end;width: 50%;}#sk-container-id-1 div.sk-parallel-item:last-child::after {align-self: flex-start;width: 50%;}#sk-container-id-1 div.sk-parallel-item:only-child::after {width: 0;}#sk-container-id-1 div.sk-dashed-wrapped {border: 1px dashed gray;margin: 0 0.4em 0.5em 0.4em;box-sizing: border-box;padding-bottom: 0.4em;background-color: white;}#sk-container-id-1 div.sk-label label {font-family: monospace;font-weight: bold;display: inline-block;line-height: 1.2em;}#sk-container-id-1 div.sk-label-container {text-align: center;}#sk-container-id-1 div.sk-container {/* jupyter's `normalize.less` sets `[hidden] { display: none; }` but bootstrap.min.css set `[hidden] { display: none !important; }` so we also need the `!important` here to be able to override the default hidden behavior on the sphinx rendered scikit-learn.org. See: https://github.com/scikit-learn/scikit-learn/issues/21755 */display: inline-block !important;position: relative;}#sk-container-id-1 div.sk-text-repr-fallback {display: none;}</style><div id=\"sk-container-id-1\" class=\"sk-top-container\"><div class=\"sk-text-repr-fallback\"><pre>Pipeline(steps=[(&#x27;scale&#x27;, StandardScaler()), (&#x27;knn&#x27;, KNeighborsClassifier())])</pre><b>In a Jupyter environment, please rerun this cell to show the HTML representation or trust the notebook. <br />On GitHub, the HTML representation is unable to render, please try loading this page with nbviewer.org.</b></div><div class=\"sk-container\" hidden><div class=\"sk-item sk-dashed-wrapped\"><div class=\"sk-label-container\"><div class=\"sk-label sk-toggleable\"><input class=\"sk-toggleable__control sk-hidden--visually\" id=\"sk-estimator-id-1\" type=\"checkbox\" ><label for=\"sk-estimator-id-1\" class=\"sk-toggleable__label sk-toggleable__label-arrow\">Pipeline</label><div class=\"sk-toggleable__content\"><pre>Pipeline(steps=[(&#x27;scale&#x27;, StandardScaler()), (&#x27;knn&#x27;, KNeighborsClassifier())])</pre></div></div></div><div class=\"sk-serial\"><div class=\"sk-item\"><div class=\"sk-estimator sk-toggleable\"><input class=\"sk-toggleable__control sk-hidden--visually\" id=\"sk-estimator-id-2\" type=\"checkbox\" ><label for=\"sk-estimator-id-2\" class=\"sk-toggleable__label sk-toggleable__label-arrow\">StandardScaler</label><div class=\"sk-toggleable__content\"><pre>StandardScaler()</pre></div></div></div><div class=\"sk-item\"><div class=\"sk-estimator sk-toggleable\"><input class=\"sk-toggleable__control sk-hidden--visually\" id=\"sk-estimator-id-3\" type=\"checkbox\" ><label for=\"sk-estimator-id-3\" class=\"sk-toggleable__label sk-toggleable__label-arrow\">KNeighborsClassifier</label><div class=\"sk-toggleable__content\"><pre>KNeighborsClassifier()</pre></div></div></div></div></div></div></div>"
      ],
      "text/plain": [
       "Pipeline(steps=[('scale', StandardScaler()), ('knn', KNeighborsClassifier())])"
      ]
     },
     "execution_count": 23,
     "metadata": {},
     "output_type": "execute_result"
    }
   ],
   "source": [
    "knn_pipe = Pipeline([('scale', StandardScaler()), ('knn', KNeighborsClassifier())])\n",
    "knn_pipe.fit(X_train, y_train)\n"
   ]
  },
  {
   "cell_type": "code",
   "execution_count": 24,
   "id": "9e14009f",
   "metadata": {},
   "outputs": [
    {
     "data": {
      "image/png": "[encoded data removed]",
      "text/plain": [
       "<Figure size 640x480 with 2 Axes>"
      ]
     },
     "metadata": {},
     "output_type": "display_data"
    }
   ],
   "source": [
    "from sklearn.metrics import confusion_matrix, precision_score, recall_score, accuracy_score, ConfusionMatrixDisplay\n",
    "import matplotlib.pyplot as plt\n",
    "\n",
    "knn_preds = knn_pipe.predict(X_test)\n",
    "voo_confusion_mat = confusion_matrix(y_test, knn_preds)\n",
    "disp = ConfusionMatrixDisplay(confusion_matrix=voo_confusion_mat, display_labels=['not buy', 'buy' ])\n",
    "disp.plot()\n",
    "plt.show()\n"
   ]
  },
  {
   "cell_type": "markdown",
   "id": "910b0c13",
   "metadata": {},
   "source": [
    "It is quite good in identify true negative, which is important. We should not buy when it is going to loss money. However, false positive nad false negative are same as the true possitive. There should be room for improvement there."
   ]
  },
  {
   "cell_type": "markdown",
   "id": "c732b294",
   "metadata": {},
   "source": [
    "## Logistic Regression"
   ]
  },
  {
   "cell_type": "code",
   "execution_count": 25,
   "id": "1e7eafdb",
   "metadata": {},
   "outputs": [],
   "source": [
    "from sklearn.linear_model import LogisticRegression"
   ]
  },
  {
   "cell_type": "code",
   "execution_count": 26,
   "id": "ba8705d1",
   "metadata": {},
   "outputs": [
    {
     "data": {
      "text/html": [
       "<style>#sk-container-id-2 {color: black;background-color: white;}#sk-container-id-2 pre{padding: 0;}#sk-container-id-2 div.sk-toggleable {background-color: white;}#sk-container-id-2 label.sk-toggleable__label {cursor: pointer;display: block;width: 100%;margin-bottom: 0;padding: 0.3em;box-sizing: border-box;text-align: center;}#sk-container-id-2 label.sk-toggleable__label-arrow:before {content: \"▸\";float: left;margin-right: 0.25em;color: #696969;}#sk-container-id-2 label.sk-toggleable__label-arrow:hover:before {color: black;}#sk-container-id-2 div.sk-estimator:hover label.sk-toggleable__label-arrow:before {color: black;}#sk-container-id-2 div.sk-toggleable__content {max-height: 0;max-width: 0;overflow: hidden;text-align: left;background-color: #f0f8ff;}#sk-container-id-2 div.sk-toggleable__content pre {margin: 0.2em;color: black;border-radius: 0.25em;background-color: #f0f8ff;}#sk-container-id-2 input.sk-toggleable__control:checked~div.sk-toggleable__content {max-height: 200px;max-width: 100%;overflow: auto;}#sk-container-id-2 input.sk-toggleable__control:checked~label.sk-toggleable__label-arrow:before {content: \"▾\";}#sk-container-id-2 div.sk-estimator input.sk-toggleable__control:checked~label.sk-toggleable__label {background-color: #d4ebff;}#sk-container-id-2 div.sk-label input.sk-toggleable__control:checked~label.sk-toggleable__label {background-color: #d4ebff;}#sk-container-id-2 input.sk-hidden--visually {border: 0;clip: rect(1px 1px 1px 1px);clip: rect(1px, 1px, 1px, 1px);height: 1px;margin: -1px;overflow: hidden;padding: 0;position: absolute;width: 1px;}#sk-container-id-2 div.sk-estimator {font-family: monospace;background-color: #f0f8ff;border: 1px dotted black;border-radius: 0.25em;box-sizing: border-box;margin-bottom: 0.5em;}#sk-container-id-2 div.sk-estimator:hover {background-color: #d4ebff;}#sk-container-id-2 div.sk-parallel-item::after {content: \"\";width: 100%;border-bottom: 1px solid gray;flex-grow: 1;}#sk-container-id-2 div.sk-label:hover label.sk-toggleable__label {background-color: #d4ebff;}#sk-container-id-2 div.sk-serial::before {content: \"\";position: absolute;border-left: 1px solid gray;box-sizing: border-box;top: 0;bottom: 0;left: 50%;z-index: 0;}#sk-container-id-2 div.sk-serial {display: flex;flex-direction: column;align-items: center;background-color: white;padding-right: 0.2em;padding-left: 0.2em;position: relative;}#sk-container-id-2 div.sk-item {position: relative;z-index: 1;}#sk-container-id-2 div.sk-parallel {display: flex;align-items: stretch;justify-content: center;background-color: white;position: relative;}#sk-container-id-2 div.sk-item::before, #sk-container-id-2 div.sk-parallel-item::before {content: \"\";position: absolute;border-left: 1px solid gray;box-sizing: border-box;top: 0;bottom: 0;left: 50%;z-index: -1;}#sk-container-id-2 div.sk-parallel-item {display: flex;flex-direction: column;z-index: 1;position: relative;background-color: white;}#sk-container-id-2 div.sk-parallel-item:first-child::after {align-self: flex-end;width: 50%;}#sk-container-id-2 div.sk-parallel-item:last-child::after {align-self: flex-start;width: 50%;}#sk-container-id-2 div.sk-parallel-item:only-child::after {width: 0;}#sk-container-id-2 div.sk-dashed-wrapped {border: 1px dashed gray;margin: 0 0.4em 0.5em 0.4em;box-sizing: border-box;padding-bottom: 0.4em;background-color: white;}#sk-container-id-2 div.sk-label label {font-family: monospace;font-weight: bold;display: inline-block;line-height: 1.2em;}#sk-container-id-2 div.sk-label-container {text-align: center;}#sk-container-id-2 div.sk-container {/* jupyter's `normalize.less` sets `[hidden] { display: none; }` but bootstrap.min.css set `[hidden] { display: none !important; }` so we also need the `!important` here to be able to override the default hidden behavior on the sphinx rendered scikit-learn.org. See: https://github.com/scikit-learn/scikit-learn/issues/21755 */display: inline-block !important;position: relative;}#sk-container-id-2 div.sk-text-repr-fallback {display: none;}</style><div id=\"sk-container-id-2\" class=\"sk-top-container\"><div class=\"sk-text-repr-fallback\"><pre>Pipeline(steps=[(&#x27;scale&#x27;, StandardScaler()), (&#x27;log&#x27;, LogisticRegression())])</pre><b>In a Jupyter environment, please rerun this cell to show the HTML representation or trust the notebook. <br />On GitHub, the HTML representation is unable to render, please try loading this page with nbviewer.org.</b></div><div class=\"sk-container\" hidden><div class=\"sk-item sk-dashed-wrapped\"><div class=\"sk-label-container\"><div class=\"sk-label sk-toggleable\"><input class=\"sk-toggleable__control sk-hidden--visually\" id=\"sk-estimator-id-4\" type=\"checkbox\" ><label for=\"sk-estimator-id-4\" class=\"sk-toggleable__label sk-toggleable__label-arrow\">Pipeline</label><div class=\"sk-toggleable__content\"><pre>Pipeline(steps=[(&#x27;scale&#x27;, StandardScaler()), (&#x27;log&#x27;, LogisticRegression())])</pre></div></div></div><div class=\"sk-serial\"><div class=\"sk-item\"><div class=\"sk-estimator sk-toggleable\"><input class=\"sk-toggleable__control sk-hidden--visually\" id=\"sk-estimator-id-5\" type=\"checkbox\" ><label for=\"sk-estimator-id-5\" class=\"sk-toggleable__label sk-toggleable__label-arrow\">StandardScaler</label><div class=\"sk-toggleable__content\"><pre>StandardScaler()</pre></div></div></div><div class=\"sk-item\"><div class=\"sk-estimator sk-toggleable\"><input class=\"sk-toggleable__control sk-hidden--visually\" id=\"sk-estimator-id-6\" type=\"checkbox\" ><label for=\"sk-estimator-id-6\" class=\"sk-toggleable__label sk-toggleable__label-arrow\">LogisticRegression</label><div class=\"sk-toggleable__content\"><pre>LogisticRegression()</pre></div></div></div></div></div></div></div>"
      ],
      "text/plain": [
       "Pipeline(steps=[('scale', StandardScaler()), ('log', LogisticRegression())])"
      ]
     },
     "execution_count": 26,
     "metadata": {},
     "output_type": "execute_result"
    }
   ],
   "source": [
    "log_pipe = Pipeline([('scale', StandardScaler()), ('log', LogisticRegression())])\n",
    "log_pipe.fit(X_train, y_train)\n"
   ]
  },
  {
   "cell_type": "code",
   "execution_count": 27,
   "id": "1a6c16a5",
   "metadata": {},
   "outputs": [
    {
     "data": {
      "image/png": "[encoded data removed]",
      "text/plain": [
       "<Figure size 640x480 with 2 Axes>"
      ]
     },
     "metadata": {},
     "output_type": "display_data"
    }
   ],
   "source": [
    "log_preds = log_pipe.predict(X_test)\n",
    "voo_confusion_mat = confusion_matrix(y_test, log_preds)\n",
    "disp = ConfusionMatrixDisplay(confusion_matrix=voo_confusion_mat, display_labels=['not buy', 'buy' ])\n",
    "disp.plot()\n",
    "plt.show()\n"
   ]
  },
  {
   "cell_type": "markdown",
   "id": "9ec64adc",
   "metadata": {},
   "source": [
    "Again, it is doing a good job on filtering out the time that we should not enter the trade, but it seesm that it is worse than KNN as it does not get any true positive right"
   ]
  },
  {
   "cell_type": "markdown",
   "id": "ae4f2c97",
   "metadata": {},
   "source": [
    "## Decision Tree"
   ]
  },
  {
   "cell_type": "code",
   "execution_count": 28,
   "id": "a7a7b221",
   "metadata": {},
   "outputs": [],
   "source": [
    "from sklearn.tree import DecisionTreeClassifier"
   ]
  },
  {
   "cell_type": "code",
   "execution_count": 29,
   "id": "2abc8924",
   "metadata": {},
   "outputs": [],
   "source": [
    "tree_model = DecisionTreeClassifier()\n",
    "tree_model.fit(X_train,y_train)\n",
    "tree_pred = tree_model.predict(X_test)"
   ]
  },
  {
   "cell_type": "code",
   "execution_count": 30,
   "id": "1cb6bc8a",
   "metadata": {},
   "outputs": [
    {
     "data": {
      "image/png": "[encoded data removed]",
      "text/plain": [
       "<Figure size 640x480 with 2 Axes>"
      ]
     },
     "metadata": {},
     "output_type": "display_data"
    }
   ],
   "source": [
    "voo_confusion_mat = confusion_matrix(y_test, tree_pred)\n",
    "disp = ConfusionMatrixDisplay(confusion_matrix=voo_confusion_mat, display_labels=['not buy', 'buy' ])\n",
    "disp.plot()\n",
    "plt.show()\n"
   ]
  },
  {
   "cell_type": "markdown",
   "id": "93b1ce35",
   "metadata": {},
   "source": [
    "The results is similar to that of KNN, so both are good candidate at this point"
   ]
  },
  {
   "cell_type": "markdown",
   "id": "588e7ea8",
   "metadata": {},
   "source": [
    "## SVM"
   ]
  },
  {
   "cell_type": "code",
   "execution_count": 31,
   "id": "a96951df",
   "metadata": {},
   "outputs": [],
   "source": [
    "from sklearn.svm import SVC\n"
   ]
  },
  {
   "cell_type": "code",
   "execution_count": 32,
   "id": "49d4bfca",
   "metadata": {},
   "outputs": [
    {
     "data": {
      "text/plain": [
       "<sklearn.metrics._plot.confusion_matrix.ConfusionMatrixDisplay at 0x2b62f93e850>"
      ]
     },
     "execution_count": 32,
     "metadata": {},
     "output_type": "execute_result"
    },
    {
     "data": {
      "image/png": "[encoded data removed]",
      "text/plain": [
       "<Figure size 640x480 with 2 Axes>"
      ]
     },
     "metadata": {},
     "output_type": "display_data"
    }
   ],
   "source": [
    "svc_model = SVC()\n",
    "svc_model.fit(X_train, y_train)\n",
    "svc_pred = svc_model.predict(X_test)\n",
    "voo_confusion_mat = confusion_matrix(y_test, svc_pred)\n",
    "disp = ConfusionMatrixDisplay(confusion_matrix=voo_confusion_mat, display_labels=['not buy', 'buy' ])\n",
    "disp.plot()"
   ]
  },
  {
   "cell_type": "markdown",
   "id": "63276609",
   "metadata": {},
   "source": [
    "This also has a similar results compare to logistic regresion. So at this point KNN and Devision trees seems to be more promissing"
   ]
  },
  {
   "cell_type": "markdown",
   "id": "e77062ec",
   "metadata": {},
   "source": [
    "## We can further improve the models by tuning some parameters"
   ]
  },
  {
   "cell_type": "markdown",
   "id": "b7f8dbcc",
   "metadata": {},
   "source": [
    "## Improve KNN"
   ]
  },
  {
   "cell_type": "code",
   "execution_count": 33,
   "id": "2f42efc8",
   "metadata": {},
   "outputs": [],
   "source": [
    "from sklearn.model_selection import GridSearchCV\n",
    "knn_grid = GridSearchCV(knn_pipe, param_grid={'knn__n_neighbors': range(1, 33, 2)}, scoring = 'roc_auc')\n",
    "knn_grid.fit(X_train, y_train)\n",
    "best_k = knn_grid.best_params_['knn__n_neighbors']\n"
   ]
  },
  {
   "cell_type": "code",
   "execution_count": 34,
   "id": "a40b390f",
   "metadata": {},
   "outputs": [
    {
     "data": {
      "text/plain": [
       "3"
      ]
     },
     "execution_count": 34,
     "metadata": {},
     "output_type": "execute_result"
    }
   ],
   "source": [
    "best_k"
   ]
  },
  {
   "cell_type": "code",
   "execution_count": 35,
   "id": "bb306eaa",
   "metadata": {},
   "outputs": [
    {
     "data": {
      "image/png": "[encoded data removed]",
      "text/plain": [
       "<Figure size 640x480 with 2 Axes>"
      ]
     },
     "metadata": {},
     "output_type": "display_data"
    }
   ],
   "source": [
    "knn_new_pipe = Pipeline([('scale', StandardScaler()), ('knn', KNeighborsClassifier(n_neighbors=3))])\n",
    "knn_new_pipe.fit(X_train, y_train)\n",
    "knn_new_preds = knn_new_pipe.predict(X_test)\n",
    "voo_confusion_mat = confusion_matrix(y_test, knn_new_preds)\n",
    "disp = ConfusionMatrixDisplay(confusion_matrix=voo_confusion_mat, display_labels=['not buy', 'buy' ])\n",
    "disp.plot()\n",
    "plt.show()"
   ]
  },
  {
   "cell_type": "markdown",
   "id": "47e9fa3a",
   "metadata": {},
   "source": [
    "## Improving Logistic Regression"
   ]
  },
  {
   "cell_type": "code",
   "execution_count": 36,
   "id": "cd372c2a",
   "metadata": {},
   "outputs": [],
   "source": [
    "scaler = StandardScaler()\n",
    "scaled_X_train = scaler.fit_transform(X_train)\n",
    "scaled_X_test = scaler.transform(X_test)\n"
   ]
  },
  {
   "cell_type": "code",
   "execution_count": 37,
   "id": "28cf69e0",
   "metadata": {},
   "outputs": [
    {
     "name": "stdout",
     "output_type": "stream",
     "text": [
      "[[0. 0. 0. 0. 0.]]\n",
      "[[0. 0. 0. 0. 0.]]\n",
      "[[0. 0. 0. 0. 0.]]\n",
      "[[0. 0. 0. 0. 0.]]\n",
      "[[0. 0. 0. 0. 0.]]\n",
      "[[0. 0. 0. 0. 0.]]\n",
      "[[0. 0. 0. 0. 0.]]\n",
      "[[0. 0. 0. 0. 0.]]\n",
      "[[0. 0. 0. 0. 0.]]\n",
      "[[0. 0. 0. 0. 0.]]\n",
      "[[0. 0. 0. 0. 0.]]\n",
      "[[0. 0. 0. 0. 0.]]\n",
      "[[ 0.          0.          0.          0.         -0.02277771]]\n",
      "[[ 0.          0.          0.          0.         -0.10421535]]\n",
      "[[ 0.          0.          0.          0.         -0.18079283]]\n",
      "[[ 0.          0.          0.          0.         -0.25228619]]\n",
      "[[ 0.          0.          0.          0.         -0.31849697]]\n",
      "[[ 0.         0.         0.         0.        -0.3791575]]\n",
      "[[ 0.          0.          0.          0.         -0.43419542]]\n",
      "[[ 0.          0.          0.          0.         -0.48373848]]\n",
      "[[ 0.          0.          0.          0.         -0.52779865]]\n",
      "[[ 0.          0.          0.          0.         -0.56666226]]\n",
      "[[ 0.          0.          0.          0.         -0.60067648]]\n",
      "[[ 0.01563365  0.          0.          0.         -0.64542304]]\n",
      "[[ 0.40841606  0.          0.          0.         -1.05283407]]\n",
      "[[ 0.74136707  0.          0.          0.         -1.39947094]]\n",
      "[[ 1.02410241  0.          0.          0.         -1.69483346]]\n",
      "[[ 1.26371594  0.          0.          0.         -1.94582338]]\n",
      "[[ 1.52382356  0.         -0.1101247   0.         -2.10536184]]\n",
      "[[ 1.8471066   0.         -0.40603515  0.         -2.13978776]]\n",
      "[[ 2.12111047  0.         -0.65485863  0.         -2.17113003]]\n",
      "[[ 2.3515413   0.         -0.86239794  0.         -2.19938971]]\n",
      "[[ 2.54437464  0.         -1.03383489  0.         -2.22540623]]\n",
      "[[ 2.70720601  0.         -1.1785908   0.         -2.24746612]]\n",
      "[[ 2.84443935  0.         -1.3006107   0.         -2.26607894]]\n",
      "[[ 2.95996897  0.         -1.40359463  0.         -2.28154162]]\n",
      "[[ 3.00010009  0.11379951 -1.55340042  0.         -2.2883515 ]]\n",
      "[[ 2.99268371  0.29093172 -1.72418055  0.         -2.28980239]]\n",
      "[[ 2.98613694  0.439818   -1.86736295  0.         -2.29110508]]\n",
      "[[ 2.98311233  0.5590914  -1.9832937   0.         -2.29326269]]\n",
      "[[ 2.97688207  0.66688822 -2.0860026   0.         -2.29363415]]\n",
      "[[ 2.97345725  0.75280764 -2.16869557  0.         -2.29472847]]\n",
      "[[ 2.97072724  0.82411076 -2.23744314  0.         -2.29563113]]\n",
      "[[ 2.96824089  0.8842744  -2.29536947  0.         -2.2962969 ]]\n",
      "[[ 2.96168426  0.94542122 -2.38086006  0.05726278 -2.3232232 ]]\n",
      "[[ 2.95471115  1.00095757 -2.46895563  0.1307702  -2.35758014]]\n",
      "[[ 2.94906438  1.04693291 -2.54199506  0.19175232 -2.38618872]]\n",
      "[[ 2.94425104  1.08551136 -2.60316165  0.24265158 -2.40994615]]\n",
      "[[ 2.94037044  1.11735095 -2.65370081  0.28475706 -2.4296928 ]]\n",
      "[[ 2.93723639  1.14362781 -2.69549678  0.31959184 -2.44605819]]\n"
     ]
    }
   ],
   "source": [
    "import numpy as np\n",
    "\n",
    "Cs = np.logspace(-2, 2)\n",
    "coef_list = []\n",
    "\n",
    "for C in Cs:\n",
    "    lgr = LogisticRegression(penalty = 'l1', solver = 'liblinear', C = C, random_state=42, max_iter = 1000).fit(scaled_X_train, y_train)\n",
    "    coef_list.append(list(lgr.coef_[0]))\n",
    "    print(lgr.coef_)\n"
   ]
  },
  {
   "cell_type": "code",
   "execution_count": 38,
   "id": "0a50042b",
   "metadata": {},
   "outputs": [
    {
     "data": {
      "text/plain": [
       "array([1.00000000e-02, 1.20679264e-02, 1.45634848e-02, 1.75751062e-02,\n",
       "       2.12095089e-02, 2.55954792e-02, 3.08884360e-02, 3.72759372e-02,\n",
       "       4.49843267e-02, 5.42867544e-02, 6.55128557e-02, 7.90604321e-02,\n",
       "       9.54095476e-02, 1.15139540e-01, 1.38949549e-01, 1.67683294e-01,\n",
       "       2.02358965e-01, 2.44205309e-01, 2.94705170e-01, 3.55648031e-01,\n",
       "       4.29193426e-01, 5.17947468e-01, 6.25055193e-01, 7.54312006e-01,\n",
       "       9.10298178e-01, 1.09854114e+00, 1.32571137e+00, 1.59985872e+00,\n",
       "       1.93069773e+00, 2.32995181e+00, 2.81176870e+00, 3.39322177e+00,\n",
       "       4.09491506e+00, 4.94171336e+00, 5.96362332e+00, 7.19685673e+00,\n",
       "       8.68511374e+00, 1.04811313e+01, 1.26485522e+01, 1.52641797e+01,\n",
       "       1.84206997e+01, 2.22299648e+01, 2.68269580e+01, 3.23745754e+01,\n",
       "       3.90693994e+01, 4.71486636e+01, 5.68986603e+01, 6.86648845e+01,\n",
       "       8.28642773e+01, 1.00000000e+02])"
      ]
     },
     "execution_count": 38,
     "metadata": {},
     "output_type": "execute_result"
    }
   ],
   "source": [
    "np.logspace(-2, 2)"
   ]
  },
  {
   "cell_type": "code",
   "execution_count": 39,
   "id": "f432b732",
   "metadata": {},
   "outputs": [],
   "source": [
    "new_lgr = LogisticRegression(penalty = 'l1', solver = 'liblinear', C = 0.01, random_state=42, max_iter = 1000).fit(scaled_X_train, y_train)\n"
   ]
  },
  {
   "cell_type": "code",
   "execution_count": 40,
   "id": "b271f34b",
   "metadata": {},
   "outputs": [],
   "source": [
    "new_log_preds = new_lgr.predict(scaled_X_test)\n"
   ]
  },
  {
   "cell_type": "code",
   "execution_count": 41,
   "id": "05783b0d",
   "metadata": {},
   "outputs": [
    {
     "data": {
      "image/png": "[encoded data removed]",
      "text/plain": [
       "<Figure size 640x480 with 2 Axes>"
      ]
     },
     "metadata": {},
     "output_type": "display_data"
    }
   ],
   "source": [
    "voo_confusion_mat = confusion_matrix(y_test, new_log_preds)\n",
    "disp = ConfusionMatrixDisplay(confusion_matrix=voo_confusion_mat, display_labels=['not buy', 'buy' ])\n",
    "disp.plot()\n",
    "plt.show()\n"
   ]
  },
  {
   "cell_type": "markdown",
   "id": "e1dc849c",
   "metadata": {},
   "source": [
    "After tuning some parameters, it does not seems like it offer any improvement"
   ]
  },
  {
   "cell_type": "markdown",
   "id": "8a31e48f",
   "metadata": {},
   "source": [
    "## Improving Decision Tree\n"
   ]
  },
  {
   "cell_type": "code",
   "execution_count": 42,
   "id": "6378445c",
   "metadata": {},
   "outputs": [],
   "source": [
    "params = {'min_impurity_decrease': [0.01, 0.02, 0.03, 0.05],\n",
    "         'max_depth': [2, 5, 10],\n",
    "         'min_samples_split': [0.1, 0.2, 0.05]}"
   ]
  },
  {
   "cell_type": "code",
   "execution_count": 43,
   "id": "ad3c5626",
   "metadata": {},
   "outputs": [],
   "source": [
    "new_tree_grid = GridSearchCV(DecisionTreeClassifier(random_state = 42), param_grid=params).fit(X_train, y_train)\n"
   ]
  },
  {
   "cell_type": "code",
   "execution_count": 44,
   "id": "d26bcea9",
   "metadata": {},
   "outputs": [],
   "source": [
    "new_tree_pred = new_tree_grid.predict(X_test)"
   ]
  },
  {
   "cell_type": "code",
   "execution_count": 45,
   "id": "951a8d9d",
   "metadata": {},
   "outputs": [
    {
     "data": {
      "image/png": "[encoded data removed]",
      "text/plain": [
       "<Figure size 640x480 with 2 Axes>"
      ]
     },
     "metadata": {},
     "output_type": "display_data"
    }
   ],
   "source": [
    "voo_confusion_mat = confusion_matrix(y_test, new_tree_pred)\n",
    "disp = ConfusionMatrixDisplay(confusion_matrix=voo_confusion_mat, display_labels=['not buy', 'buy' ])\n",
    "disp.plot()\n",
    "plt.show()\n"
   ]
  },
  {
   "cell_type": "markdown",
   "id": "58a5960a",
   "metadata": {},
   "source": [
    " Also tuning decision tree seems to do even worse"
   ]
  },
  {
   "cell_type": "markdown",
   "id": "e057b82f",
   "metadata": {},
   "source": [
    "## Improving SVM"
   ]
  },
  {
   "cell_type": "code",
   "execution_count": 46,
   "id": "86457734",
   "metadata": {},
   "outputs": [],
   "source": [
    "params = {'kernel': ['rbf', 'poly', 'linear', 'sigmoid']}"
   ]
  },
  {
   "cell_type": "code",
   "execution_count": 47,
   "id": "007f7dd8",
   "metadata": {},
   "outputs": [
    {
     "data": {
      "image/png": "[encoded data removed]",
      "text/plain": [
       "<Figure size 640x480 with 2 Axes>"
      ]
     },
     "metadata": {},
     "output_type": "display_data"
    }
   ],
   "source": [
    "svc_grid = GridSearchCV(SVC(), param_grid=params).fit(X_train, y_train)\n",
    "svc_grid.fit(X_train, y_train)\n",
    "svc_new_pred = svc_grid.predict(X_test)\n",
    "voo_confusion_mat = confusion_matrix(y_test, svc_new_pred)\n",
    "disp = ConfusionMatrixDisplay(confusion_matrix=voo_confusion_mat, display_labels=['not buy', 'buy' ])\n",
    "disp.plot()\n",
    "plt.show()\n"
   ]
  },
  {
   "cell_type": "markdown",
   "id": "b0eba2d2",
   "metadata": {},
   "source": [
    "Unfortunately turning SVM parameters also gives us the same result, so no more further optimizaition can be done."
   ]
  },
  {
   "cell_type": "code",
   "execution_count": null,
   "id": "c9749e00",
   "metadata": {},
   "outputs": [],
   "source": []
  },
  {
   "cell_type": "code",
   "execution_count": null,
   "id": "b94a34c7",
   "metadata": {},
   "outputs": [],
   "source": []
  }
 ],
 "metadata": {
  "kernelspec": {
   "display_name": "Python 3 (ipykernel)",
   "language": "python",
   "name": "python3"
  },
  "language_info": {
   "codemirror_mode": {
    "name": "ipython",
    "version": 3
   },
   "file_extension": ".py",
   "mimetype": "text/x-python",
   "name": "python",
   "nbconvert_exporter": "python",
   "pygments_lexer": "ipython3",
   "version": "3.11.3"
  }
 },
 "nbformat": 4,
 "nbformat_minor": 5
}
