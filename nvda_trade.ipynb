{
 "cells": [
  {
   "cell_type": "markdown",
   "id": "4b69425f",
   "metadata": {},
   "source": [
    "# Validating a good performance stock"
   ]
  },
  {
   "cell_type": "code",
   "execution_count": 2,
   "id": "df31ab3d",
   "metadata": {},
   "outputs": [],
   "source": [
    "import yfinance as yf\n",
    "import pandas as pd"
   ]
  },
  {
   "cell_type": "markdown",
   "id": "8618c72a",
   "metadata": {},
   "source": [
    "### I think an automated momemtum trade strategy should work better with index fund since we can filter out the news/sentiment of a particular stock. We want to take a look at this particular stock (NVDA) because it was the best performaning stock which went up most of the time over the last 1 year. It should be easy for the model to predict good entry point."
   ]
  },
  {
   "cell_type": "code",
   "execution_count": 49,
   "id": "f584caaf",
   "metadata": {},
   "outputs": [
    {
     "name": "stdout",
     "output_type": "stream",
     "text": [
      "[*********************100%%**********************]  1 of 1 completed\n"
     ]
    }
   ],
   "source": [
    "data = yf.download(\"NVDA\", period='12mo')"
   ]
  },
  {
   "cell_type": "code",
   "execution_count": 50,
   "id": "1097ac4d",
   "metadata": {},
   "outputs": [
    {
     "data": {
      "text/html": [
       "<div>\n",
       "<style scoped>\n",
       "    .dataframe tbody tr th:only-of-type {\n",
       "        vertical-align: middle;\n",
       "    }\n",
       "\n",
       "    .dataframe tbody tr th {\n",
       "        vertical-align: top;\n",
       "    }\n",
       "\n",
       "    .dataframe thead th {\n",
       "        text-align: right;\n",
       "    }\n",
       "</style>\n",
       "<table border=\"1\" class=\"dataframe\">\n",
       "  <thead>\n",
       "    <tr style=\"text-align: right;\">\n",
       "      <th></th>\n",
       "      <th>Open</th>\n",
       "      <th>High</th>\n",
       "      <th>Low</th>\n",
       "      <th>Close</th>\n",
       "      <th>Adj Close</th>\n",
       "      <th>Volume</th>\n",
       "    </tr>\n",
       "    <tr>\n",
       "      <th>Date</th>\n",
       "      <th></th>\n",
       "      <th></th>\n",
       "      <th></th>\n",
       "      <th></th>\n",
       "      <th></th>\n",
       "      <th></th>\n",
       "    </tr>\n",
       "  </thead>\n",
       "  <tbody>\n",
       "    <tr>\n",
       "      <th>2023-03-16</th>\n",
       "      <td>240.270004</td>\n",
       "      <td>255.880005</td>\n",
       "      <td>238.940002</td>\n",
       "      <td>255.410004</td>\n",
       "      <td>255.328094</td>\n",
       "      <td>58325300</td>\n",
       "    </tr>\n",
       "    <tr>\n",
       "      <th>2023-03-17</th>\n",
       "      <td>259.820007</td>\n",
       "      <td>263.989990</td>\n",
       "      <td>256.679993</td>\n",
       "      <td>257.250000</td>\n",
       "      <td>257.167542</td>\n",
       "      <td>84854700</td>\n",
       "    </tr>\n",
       "    <tr>\n",
       "      <th>2023-03-20</th>\n",
       "      <td>256.149994</td>\n",
       "      <td>260.239990</td>\n",
       "      <td>251.300003</td>\n",
       "      <td>259.000000</td>\n",
       "      <td>258.916962</td>\n",
       "      <td>43274700</td>\n",
       "    </tr>\n",
       "    <tr>\n",
       "      <th>2023-03-21</th>\n",
       "      <td>261.799988</td>\n",
       "      <td>263.920013</td>\n",
       "      <td>253.809998</td>\n",
       "      <td>261.989990</td>\n",
       "      <td>261.905975</td>\n",
       "      <td>54740800</td>\n",
       "    </tr>\n",
       "    <tr>\n",
       "      <th>2023-03-22</th>\n",
       "      <td>264.250000</td>\n",
       "      <td>275.890015</td>\n",
       "      <td>262.369995</td>\n",
       "      <td>264.679993</td>\n",
       "      <td>264.595123</td>\n",
       "      <td>79729500</td>\n",
       "    </tr>\n",
       "    <tr>\n",
       "      <th>2023-03-23</th>\n",
       "      <td>271.149994</td>\n",
       "      <td>274.989990</td>\n",
       "      <td>266.899994</td>\n",
       "      <td>271.910004</td>\n",
       "      <td>271.822815</td>\n",
       "      <td>56488900</td>\n",
       "    </tr>\n",
       "    <tr>\n",
       "      <th>2023-03-24</th>\n",
       "      <td>270.309998</td>\n",
       "      <td>271.670013</td>\n",
       "      <td>263.549988</td>\n",
       "      <td>267.790009</td>\n",
       "      <td>267.704132</td>\n",
       "      <td>45492000</td>\n",
       "    </tr>\n",
       "    <tr>\n",
       "      <th>2023-03-27</th>\n",
       "      <td>268.369995</td>\n",
       "      <td>270.000000</td>\n",
       "      <td>263.649994</td>\n",
       "      <td>265.309998</td>\n",
       "      <td>265.224945</td>\n",
       "      <td>36102600</td>\n",
       "    </tr>\n",
       "    <tr>\n",
       "      <th>2023-03-28</th>\n",
       "      <td>264.470001</td>\n",
       "      <td>265.130005</td>\n",
       "      <td>258.500000</td>\n",
       "      <td>264.100006</td>\n",
       "      <td>264.015320</td>\n",
       "      <td>35610400</td>\n",
       "    </tr>\n",
       "    <tr>\n",
       "      <th>2023-03-29</th>\n",
       "      <td>268.250000</td>\n",
       "      <td>270.779999</td>\n",
       "      <td>265.970001</td>\n",
       "      <td>269.839996</td>\n",
       "      <td>269.753479</td>\n",
       "      <td>39369400</td>\n",
       "    </tr>\n",
       "  </tbody>\n",
       "</table>\n",
       "</div>"
      ],
      "text/plain": [
       "                  Open        High         Low       Close   Adj Close  \\\n",
       "Date                                                                     \n",
       "2023-03-16  240.270004  255.880005  238.940002  255.410004  255.328094   \n",
       "2023-03-17  259.820007  263.989990  256.679993  257.250000  257.167542   \n",
       "2023-03-20  256.149994  260.239990  251.300003  259.000000  258.916962   \n",
       "2023-03-21  261.799988  263.920013  253.809998  261.989990  261.905975   \n",
       "2023-03-22  264.250000  275.890015  262.369995  264.679993  264.595123   \n",
       "2023-03-23  271.149994  274.989990  266.899994  271.910004  271.822815   \n",
       "2023-03-24  270.309998  271.670013  263.549988  267.790009  267.704132   \n",
       "2023-03-27  268.369995  270.000000  263.649994  265.309998  265.224945   \n",
       "2023-03-28  264.470001  265.130005  258.500000  264.100006  264.015320   \n",
       "2023-03-29  268.250000  270.779999  265.970001  269.839996  269.753479   \n",
       "\n",
       "              Volume  \n",
       "Date                  \n",
       "2023-03-16  58325300  \n",
       "2023-03-17  84854700  \n",
       "2023-03-20  43274700  \n",
       "2023-03-21  54740800  \n",
       "2023-03-22  79729500  \n",
       "2023-03-23  56488900  \n",
       "2023-03-24  45492000  \n",
       "2023-03-27  36102600  \n",
       "2023-03-28  35610400  \n",
       "2023-03-29  39369400  "
      ]
     },
     "execution_count": 50,
     "metadata": {},
     "output_type": "execute_result"
    }
   ],
   "source": [
    "data.head(10)"
   ]
  },
  {
   "cell_type": "markdown",
   "id": "0628f84d",
   "metadata": {},
   "source": [
    "## Problem statement\n",
    "\n",
    "Given the last 5 days closing price (day1 to day5), if you buy at the opening on the next day (day6) , would you be able to make 3% gain in the next 5 days (day6 to day10) ? i.e., by just looking at the closing price of the last 5 days, should i place a trade on day6 with the hope of getting a 3% return on the next 5 days ? "
   ]
  },
  {
   "cell_type": "markdown",
   "id": "ae7c5ad8",
   "metadata": {},
   "source": [
    "###  Create the input data frame. i.e. day1 to day5 dataframe"
   ]
  },
  {
   "cell_type": "code",
   "execution_count": 51,
   "id": "dea8cd53",
   "metadata": {},
   "outputs": [],
   "source": [
    "past_data = pd.DataFrame()"
   ]
  },
  {
   "cell_type": "code",
   "execution_count": 52,
   "id": "5c12d74f",
   "metadata": {},
   "outputs": [],
   "source": [
    "past_data['day1'] = data[['Close']].shift(9,axis=0)\n",
    "past_data['day2'] = data[['Close']].shift(8,axis=0)\n",
    "past_data['day3'] = data[['Close']].shift(7,axis=0)\n",
    "past_data['day4'] = data[['Close']].shift(6,axis=0)\n",
    "past_data['day5'] = data[['Close']].shift(5,axis=0)\n",
    "past_data = past_data.reset_index()\n",
    "past_data = past_data.drop(['Date'],axis=1)\n",
    "past_data = past_data.drop([0,1,2,3,4,5,6,7,8,9])"
   ]
  },
  {
   "cell_type": "code",
   "execution_count": 53,
   "id": "169458df",
   "metadata": {},
   "outputs": [
    {
     "data": {
      "text/html": [
       "<div>\n",
       "<style scoped>\n",
       "    .dataframe tbody tr th:only-of-type {\n",
       "        vertical-align: middle;\n",
       "    }\n",
       "\n",
       "    .dataframe tbody tr th {\n",
       "        vertical-align: top;\n",
       "    }\n",
       "\n",
       "    .dataframe thead th {\n",
       "        text-align: right;\n",
       "    }\n",
       "</style>\n",
       "<table border=\"1\" class=\"dataframe\">\n",
       "  <thead>\n",
       "    <tr style=\"text-align: right;\">\n",
       "      <th></th>\n",
       "      <th>day1</th>\n",
       "      <th>day2</th>\n",
       "      <th>day3</th>\n",
       "      <th>day4</th>\n",
       "      <th>day5</th>\n",
       "    </tr>\n",
       "  </thead>\n",
       "  <tbody>\n",
       "    <tr>\n",
       "      <th>10</th>\n",
       "      <td>257.250000</td>\n",
       "      <td>259.000000</td>\n",
       "      <td>261.989990</td>\n",
       "      <td>264.679993</td>\n",
       "      <td>271.910004</td>\n",
       "    </tr>\n",
       "    <tr>\n",
       "      <th>11</th>\n",
       "      <td>259.000000</td>\n",
       "      <td>261.989990</td>\n",
       "      <td>264.679993</td>\n",
       "      <td>271.910004</td>\n",
       "      <td>267.790009</td>\n",
       "    </tr>\n",
       "    <tr>\n",
       "      <th>12</th>\n",
       "      <td>261.989990</td>\n",
       "      <td>264.679993</td>\n",
       "      <td>271.910004</td>\n",
       "      <td>267.790009</td>\n",
       "      <td>265.309998</td>\n",
       "    </tr>\n",
       "    <tr>\n",
       "      <th>13</th>\n",
       "      <td>264.679993</td>\n",
       "      <td>271.910004</td>\n",
       "      <td>267.790009</td>\n",
       "      <td>265.309998</td>\n",
       "      <td>264.100006</td>\n",
       "    </tr>\n",
       "    <tr>\n",
       "      <th>14</th>\n",
       "      <td>271.910004</td>\n",
       "      <td>267.790009</td>\n",
       "      <td>265.309998</td>\n",
       "      <td>264.100006</td>\n",
       "      <td>269.839996</td>\n",
       "    </tr>\n",
       "    <tr>\n",
       "      <th>15</th>\n",
       "      <td>267.790009</td>\n",
       "      <td>265.309998</td>\n",
       "      <td>264.100006</td>\n",
       "      <td>269.839996</td>\n",
       "      <td>273.829987</td>\n",
       "    </tr>\n",
       "    <tr>\n",
       "      <th>16</th>\n",
       "      <td>265.309998</td>\n",
       "      <td>264.100006</td>\n",
       "      <td>269.839996</td>\n",
       "      <td>273.829987</td>\n",
       "      <td>277.769989</td>\n",
       "    </tr>\n",
       "    <tr>\n",
       "      <th>17</th>\n",
       "      <td>264.100006</td>\n",
       "      <td>269.839996</td>\n",
       "      <td>273.829987</td>\n",
       "      <td>277.769989</td>\n",
       "      <td>279.649994</td>\n",
       "    </tr>\n",
       "    <tr>\n",
       "      <th>18</th>\n",
       "      <td>269.839996</td>\n",
       "      <td>273.829987</td>\n",
       "      <td>277.769989</td>\n",
       "      <td>279.649994</td>\n",
       "      <td>274.529999</td>\n",
       "    </tr>\n",
       "    <tr>\n",
       "      <th>19</th>\n",
       "      <td>273.829987</td>\n",
       "      <td>277.769989</td>\n",
       "      <td>279.649994</td>\n",
       "      <td>274.529999</td>\n",
       "      <td>268.809998</td>\n",
       "    </tr>\n",
       "  </tbody>\n",
       "</table>\n",
       "</div>"
      ],
      "text/plain": [
       "          day1        day2        day3        day4        day5\n",
       "10  257.250000  259.000000  261.989990  264.679993  271.910004\n",
       "11  259.000000  261.989990  264.679993  271.910004  267.790009\n",
       "12  261.989990  264.679993  271.910004  267.790009  265.309998\n",
       "13  264.679993  271.910004  267.790009  265.309998  264.100006\n",
       "14  271.910004  267.790009  265.309998  264.100006  269.839996\n",
       "15  267.790009  265.309998  264.100006  269.839996  273.829987\n",
       "16  265.309998  264.100006  269.839996  273.829987  277.769989\n",
       "17  264.100006  269.839996  273.829987  277.769989  279.649994\n",
       "18  269.839996  273.829987  277.769989  279.649994  274.529999\n",
       "19  273.829987  277.769989  279.649994  274.529999  268.809998"
      ]
     },
     "execution_count": 53,
     "metadata": {},
     "output_type": "execute_result"
    }
   ],
   "source": [
    "past_data.head(10)"
   ]
  },
  {
   "cell_type": "markdown",
   "id": "c603de18",
   "metadata": {},
   "source": [
    "### get the maximum price the stock will reach on day6 to day10"
   ]
  },
  {
   "cell_type": "code",
   "execution_count": 54,
   "id": "855f2436",
   "metadata": {},
   "outputs": [],
   "source": [
    "future_data = pd.DataFrame()"
   ]
  },
  {
   "cell_type": "code",
   "execution_count": 55,
   "id": "01bcae5b",
   "metadata": {},
   "outputs": [],
   "source": [
    "future_data['day6'] = data[['High']].shift(4,axis=0)\n",
    "future_data['day7'] = data[['High']].shift(3,axis=0)\n",
    "future_data['day8'] = data[['High']].shift(2,axis=0)\n",
    "future_data['day9'] = data[['High']].shift(1,axis=0)\n",
    "future_data['day10'] = data[['High']]\n",
    "future_data = future_data.reset_index()\n",
    "future_data = future_data.drop(['Date'],axis=1)\n",
    "future_data = future_data.drop([0,1,2,3,4,5,6,7,8,9])\n"
   ]
  },
  {
   "cell_type": "code",
   "execution_count": 56,
   "id": "5c5b0be0",
   "metadata": {},
   "outputs": [
    {
     "data": {
      "text/html": [
       "<div>\n",
       "<style scoped>\n",
       "    .dataframe tbody tr th:only-of-type {\n",
       "        vertical-align: middle;\n",
       "    }\n",
       "\n",
       "    .dataframe tbody tr th {\n",
       "        vertical-align: top;\n",
       "    }\n",
       "\n",
       "    .dataframe thead th {\n",
       "        text-align: right;\n",
       "    }\n",
       "</style>\n",
       "<table border=\"1\" class=\"dataframe\">\n",
       "  <thead>\n",
       "    <tr style=\"text-align: right;\">\n",
       "      <th></th>\n",
       "      <th>day6</th>\n",
       "      <th>day7</th>\n",
       "      <th>day8</th>\n",
       "      <th>day9</th>\n",
       "      <th>day10</th>\n",
       "    </tr>\n",
       "  </thead>\n",
       "  <tbody>\n",
       "    <tr>\n",
       "      <th>10</th>\n",
       "      <td>271.670013</td>\n",
       "      <td>270.000000</td>\n",
       "      <td>265.130005</td>\n",
       "      <td>270.779999</td>\n",
       "      <td>274.989990</td>\n",
       "    </tr>\n",
       "    <tr>\n",
       "      <th>11</th>\n",
       "      <td>270.000000</td>\n",
       "      <td>265.130005</td>\n",
       "      <td>270.779999</td>\n",
       "      <td>274.989990</td>\n",
       "      <td>278.339996</td>\n",
       "    </tr>\n",
       "    <tr>\n",
       "      <th>12</th>\n",
       "      <td>265.130005</td>\n",
       "      <td>270.779999</td>\n",
       "      <td>274.989990</td>\n",
       "      <td>278.339996</td>\n",
       "      <td>280.000000</td>\n",
       "    </tr>\n",
       "    <tr>\n",
       "      <th>13</th>\n",
       "      <td>270.779999</td>\n",
       "      <td>274.989990</td>\n",
       "      <td>278.339996</td>\n",
       "      <td>280.000000</td>\n",
       "      <td>280.000000</td>\n",
       "    </tr>\n",
       "    <tr>\n",
       "      <th>14</th>\n",
       "      <td>274.989990</td>\n",
       "      <td>278.339996</td>\n",
       "      <td>280.000000</td>\n",
       "      <td>280.000000</td>\n",
       "      <td>269.980011</td>\n",
       "    </tr>\n",
       "  </tbody>\n",
       "</table>\n",
       "</div>"
      ],
      "text/plain": [
       "          day6        day7        day8        day9       day10\n",
       "10  271.670013  270.000000  265.130005  270.779999  274.989990\n",
       "11  270.000000  265.130005  270.779999  274.989990  278.339996\n",
       "12  265.130005  270.779999  274.989990  278.339996  280.000000\n",
       "13  270.779999  274.989990  278.339996  280.000000  280.000000\n",
       "14  274.989990  278.339996  280.000000  280.000000  269.980011"
      ]
     },
     "execution_count": 56,
     "metadata": {},
     "output_type": "execute_result"
    }
   ],
   "source": [
    "future_data.head(5)"
   ]
  },
  {
   "cell_type": "code",
   "execution_count": 57,
   "id": "dc1ed143",
   "metadata": {},
   "outputs": [],
   "source": [
    "next_five_days_max = pd.DataFrame()"
   ]
  },
  {
   "cell_type": "code",
   "execution_count": 58,
   "id": "e7c1a1e9",
   "metadata": {},
   "outputs": [],
   "source": [
    "next_five_days_max['future_max'] = future_data[[\"day6\", \"day7\", \"day8\", \"day9\", \"day10\"]].max(axis=1)"
   ]
  },
  {
   "cell_type": "markdown",
   "id": "7589ac87",
   "metadata": {},
   "source": [
    "### get the opening price of day 6"
   ]
  },
  {
   "cell_type": "code",
   "execution_count": 59,
   "id": "6c9a28c7",
   "metadata": {},
   "outputs": [],
   "source": [
    "day6_open = pd.DataFrame()"
   ]
  },
  {
   "cell_type": "code",
   "execution_count": 60,
   "id": "c6367279",
   "metadata": {},
   "outputs": [],
   "source": [
    "day6_open['day6_open'] = data[['Open']].shift(4,axis=0)\n",
    "day6_open = day6_open.reset_index()\n",
    "day6_open = day6_open.drop(['Date'],axis=1)\n",
    "day6_open = day6_open.drop([0,1,2,3,4,5,6,7,8,9])"
   ]
  },
  {
   "cell_type": "code",
   "execution_count": 61,
   "id": "4866d3f9",
   "metadata": {},
   "outputs": [
    {
     "data": {
      "text/html": [
       "<div>\n",
       "<style scoped>\n",
       "    .dataframe tbody tr th:only-of-type {\n",
       "        vertical-align: middle;\n",
       "    }\n",
       "\n",
       "    .dataframe tbody tr th {\n",
       "        vertical-align: top;\n",
       "    }\n",
       "\n",
       "    .dataframe thead th {\n",
       "        text-align: right;\n",
       "    }\n",
       "</style>\n",
       "<table border=\"1\" class=\"dataframe\">\n",
       "  <thead>\n",
       "    <tr style=\"text-align: right;\">\n",
       "      <th></th>\n",
       "      <th>day6_open</th>\n",
       "    </tr>\n",
       "  </thead>\n",
       "  <tbody>\n",
       "    <tr>\n",
       "      <th>10</th>\n",
       "      <td>270.309998</td>\n",
       "    </tr>\n",
       "    <tr>\n",
       "      <th>11</th>\n",
       "      <td>268.369995</td>\n",
       "    </tr>\n",
       "    <tr>\n",
       "      <th>12</th>\n",
       "      <td>264.470001</td>\n",
       "    </tr>\n",
       "    <tr>\n",
       "      <th>13</th>\n",
       "      <td>268.250000</td>\n",
       "    </tr>\n",
       "    <tr>\n",
       "      <th>14</th>\n",
       "      <td>272.290009</td>\n",
       "    </tr>\n",
       "    <tr>\n",
       "      <th>15</th>\n",
       "      <td>271.399994</td>\n",
       "    </tr>\n",
       "    <tr>\n",
       "      <th>16</th>\n",
       "      <td>275.089996</td>\n",
       "    </tr>\n",
       "    <tr>\n",
       "      <th>17</th>\n",
       "      <td>279.660004</td>\n",
       "    </tr>\n",
       "    <tr>\n",
       "      <th>18</th>\n",
       "      <td>268.290009</td>\n",
       "    </tr>\n",
       "    <tr>\n",
       "      <th>19</th>\n",
       "      <td>265.839996</td>\n",
       "    </tr>\n",
       "  </tbody>\n",
       "</table>\n",
       "</div>"
      ],
      "text/plain": [
       "     day6_open\n",
       "10  270.309998\n",
       "11  268.369995\n",
       "12  264.470001\n",
       "13  268.250000\n",
       "14  272.290009\n",
       "15  271.399994\n",
       "16  275.089996\n",
       "17  279.660004\n",
       "18  268.290009\n",
       "19  265.839996"
      ]
     },
     "execution_count": 61,
     "metadata": {},
     "output_type": "execute_result"
    }
   ],
   "source": [
    "day6_open.head(10)"
   ]
  },
  {
   "cell_type": "markdown",
   "id": "24b952c2",
   "metadata": {},
   "source": [
    "### calculate the percentage gain from day6 open to the max from day6 to day10"
   ]
  },
  {
   "cell_type": "code",
   "execution_count": 62,
   "id": "1e5e550d",
   "metadata": {},
   "outputs": [],
   "source": [
    "gain_percent =pd.DataFrame()"
   ]
  },
  {
   "cell_type": "code",
   "execution_count": 63,
   "id": "2a6bda9d",
   "metadata": {},
   "outputs": [
    {
     "data": {
      "text/html": [
       "<div>\n",
       "<style scoped>\n",
       "    .dataframe tbody tr th:only-of-type {\n",
       "        vertical-align: middle;\n",
       "    }\n",
       "\n",
       "    .dataframe tbody tr th {\n",
       "        vertical-align: top;\n",
       "    }\n",
       "\n",
       "    .dataframe thead th {\n",
       "        text-align: right;\n",
       "    }\n",
       "</style>\n",
       "<table border=\"1\" class=\"dataframe\">\n",
       "  <thead>\n",
       "    <tr style=\"text-align: right;\">\n",
       "      <th></th>\n",
       "      <th>future_max</th>\n",
       "    </tr>\n",
       "  </thead>\n",
       "  <tbody>\n",
       "    <tr>\n",
       "      <th>10</th>\n",
       "      <td>274.989990</td>\n",
       "    </tr>\n",
       "    <tr>\n",
       "      <th>11</th>\n",
       "      <td>278.339996</td>\n",
       "    </tr>\n",
       "    <tr>\n",
       "      <th>12</th>\n",
       "      <td>280.000000</td>\n",
       "    </tr>\n",
       "    <tr>\n",
       "      <th>13</th>\n",
       "      <td>280.000000</td>\n",
       "    </tr>\n",
       "    <tr>\n",
       "      <th>14</th>\n",
       "      <td>280.000000</td>\n",
       "    </tr>\n",
       "  </tbody>\n",
       "</table>\n",
       "</div>"
      ],
      "text/plain": [
       "    future_max\n",
       "10  274.989990\n",
       "11  278.339996\n",
       "12  280.000000\n",
       "13  280.000000\n",
       "14  280.000000"
      ]
     },
     "execution_count": 63,
     "metadata": {},
     "output_type": "execute_result"
    }
   ],
   "source": [
    "next_five_days_max.head()"
   ]
  },
  {
   "cell_type": "code",
   "execution_count": 64,
   "id": "8b7443d0",
   "metadata": {},
   "outputs": [],
   "source": [
    "gain_percent['gain'] = next_five_days_max['future_max'] - day6_open['day6_open']\n",
    "gain_percent['gain'] = gain_percent['gain']/day6_open['day6_open']"
   ]
  },
  {
   "cell_type": "code",
   "execution_count": 65,
   "id": "a4316093",
   "metadata": {},
   "outputs": [
    {
     "data": {
      "text/html": [
       "<div>\n",
       "<style scoped>\n",
       "    .dataframe tbody tr th:only-of-type {\n",
       "        vertical-align: middle;\n",
       "    }\n",
       "\n",
       "    .dataframe tbody tr th {\n",
       "        vertical-align: top;\n",
       "    }\n",
       "\n",
       "    .dataframe thead th {\n",
       "        text-align: right;\n",
       "    }\n",
       "</style>\n",
       "<table border=\"1\" class=\"dataframe\">\n",
       "  <thead>\n",
       "    <tr style=\"text-align: right;\">\n",
       "      <th></th>\n",
       "      <th>gain</th>\n",
       "    </tr>\n",
       "  </thead>\n",
       "  <tbody>\n",
       "    <tr>\n",
       "      <th>10</th>\n",
       "      <td>0.017313</td>\n",
       "    </tr>\n",
       "    <tr>\n",
       "      <th>11</th>\n",
       "      <td>0.037150</td>\n",
       "    </tr>\n",
       "    <tr>\n",
       "      <th>12</th>\n",
       "      <td>0.058721</td>\n",
       "    </tr>\n",
       "    <tr>\n",
       "      <th>13</th>\n",
       "      <td>0.043802</td>\n",
       "    </tr>\n",
       "    <tr>\n",
       "      <th>14</th>\n",
       "      <td>0.028315</td>\n",
       "    </tr>\n",
       "  </tbody>\n",
       "</table>\n",
       "</div>"
      ],
      "text/plain": [
       "        gain\n",
       "10  0.017313\n",
       "11  0.037150\n",
       "12  0.058721\n",
       "13  0.043802\n",
       "14  0.028315"
      ]
     },
     "execution_count": 65,
     "metadata": {},
     "output_type": "execute_result"
    }
   ],
   "source": [
    "gain_percent.head()"
   ]
  },
  {
   "cell_type": "markdown",
   "id": "c1a60a45",
   "metadata": {},
   "source": [
    "### this is the output trade or no trade on day6"
   ]
  },
  {
   "cell_type": "code",
   "execution_count": 66,
   "id": "127654f9",
   "metadata": {},
   "outputs": [],
   "source": [
    "trade = gain_percent['gain'] > 0.03"
   ]
  },
  {
   "cell_type": "code",
   "execution_count": 67,
   "id": "aa212db2",
   "metadata": {},
   "outputs": [
    {
     "data": {
      "text/plain": [
       "10    False\n",
       "11     True\n",
       "12     True\n",
       "13     True\n",
       "14    False\n",
       "Name: gain, dtype: bool"
      ]
     },
     "execution_count": 67,
     "metadata": {},
     "output_type": "execute_result"
    }
   ],
   "source": [
    "trade.head()"
   ]
  },
  {
   "cell_type": "markdown",
   "id": "f083fb0d",
   "metadata": {},
   "source": [
    "## Try to idendify buy opportunities with KNN"
   ]
  },
  {
   "cell_type": "code",
   "execution_count": 68,
   "id": "1d1a9e7d",
   "metadata": {},
   "outputs": [],
   "source": [
    "from sklearn.preprocessing import StandardScaler, OneHotEncoder\n",
    "from sklearn.pipeline import Pipeline\n",
    "from sklearn.compose import make_column_transformer\n",
    "from sklearn.neighbors import KNeighborsClassifier\n",
    "from sklearn.model_selection import train_test_split, GridSearchCV"
   ]
  },
  {
   "cell_type": "code",
   "execution_count": 69,
   "id": "95d81dfb",
   "metadata": {},
   "outputs": [],
   "source": [
    "X_train, X_test, y_train, y_test = train_test_split(past_data, trade, random_state=42)\n"
   ]
  },
  {
   "cell_type": "code",
   "execution_count": 70,
   "id": "40fa4853",
   "metadata": {},
   "outputs": [
    {
     "data": {
      "text/html": [
       "<style>#sk-container-id-3 {color: black;background-color: white;}#sk-container-id-3 pre{padding: 0;}#sk-container-id-3 div.sk-toggleable {background-color: white;}#sk-container-id-3 label.sk-toggleable__label {cursor: pointer;display: block;width: 100%;margin-bottom: 0;padding: 0.3em;box-sizing: border-box;text-align: center;}#sk-container-id-3 label.sk-toggleable__label-arrow:before {content: \"▸\";float: left;margin-right: 0.25em;color: #696969;}#sk-container-id-3 label.sk-toggleable__label-arrow:hover:before {color: black;}#sk-container-id-3 div.sk-estimator:hover label.sk-toggleable__label-arrow:before {color: black;}#sk-container-id-3 div.sk-toggleable__content {max-height: 0;max-width: 0;overflow: hidden;text-align: left;background-color: #f0f8ff;}#sk-container-id-3 div.sk-toggleable__content pre {margin: 0.2em;color: black;border-radius: 0.25em;background-color: #f0f8ff;}#sk-container-id-3 input.sk-toggleable__control:checked~div.sk-toggleable__content {max-height: 200px;max-width: 100%;overflow: auto;}#sk-container-id-3 input.sk-toggleable__control:checked~label.sk-toggleable__label-arrow:before {content: \"▾\";}#sk-container-id-3 div.sk-estimator input.sk-toggleable__control:checked~label.sk-toggleable__label {background-color: #d4ebff;}#sk-container-id-3 div.sk-label input.sk-toggleable__control:checked~label.sk-toggleable__label {background-color: #d4ebff;}#sk-container-id-3 input.sk-hidden--visually {border: 0;clip: rect(1px 1px 1px 1px);clip: rect(1px, 1px, 1px, 1px);height: 1px;margin: -1px;overflow: hidden;padding: 0;position: absolute;width: 1px;}#sk-container-id-3 div.sk-estimator {font-family: monospace;background-color: #f0f8ff;border: 1px dotted black;border-radius: 0.25em;box-sizing: border-box;margin-bottom: 0.5em;}#sk-container-id-3 div.sk-estimator:hover {background-color: #d4ebff;}#sk-container-id-3 div.sk-parallel-item::after {content: \"\";width: 100%;border-bottom: 1px solid gray;flex-grow: 1;}#sk-container-id-3 div.sk-label:hover label.sk-toggleable__label {background-color: #d4ebff;}#sk-container-id-3 div.sk-serial::before {content: \"\";position: absolute;border-left: 1px solid gray;box-sizing: border-box;top: 0;bottom: 0;left: 50%;z-index: 0;}#sk-container-id-3 div.sk-serial {display: flex;flex-direction: column;align-items: center;background-color: white;padding-right: 0.2em;padding-left: 0.2em;position: relative;}#sk-container-id-3 div.sk-item {position: relative;z-index: 1;}#sk-container-id-3 div.sk-parallel {display: flex;align-items: stretch;justify-content: center;background-color: white;position: relative;}#sk-container-id-3 div.sk-item::before, #sk-container-id-3 div.sk-parallel-item::before {content: \"\";position: absolute;border-left: 1px solid gray;box-sizing: border-box;top: 0;bottom: 0;left: 50%;z-index: -1;}#sk-container-id-3 div.sk-parallel-item {display: flex;flex-direction: column;z-index: 1;position: relative;background-color: white;}#sk-container-id-3 div.sk-parallel-item:first-child::after {align-self: flex-end;width: 50%;}#sk-container-id-3 div.sk-parallel-item:last-child::after {align-self: flex-start;width: 50%;}#sk-container-id-3 div.sk-parallel-item:only-child::after {width: 0;}#sk-container-id-3 div.sk-dashed-wrapped {border: 1px dashed gray;margin: 0 0.4em 0.5em 0.4em;box-sizing: border-box;padding-bottom: 0.4em;background-color: white;}#sk-container-id-3 div.sk-label label {font-family: monospace;font-weight: bold;display: inline-block;line-height: 1.2em;}#sk-container-id-3 div.sk-label-container {text-align: center;}#sk-container-id-3 div.sk-container {/* jupyter's `normalize.less` sets `[hidden] { display: none; }` but bootstrap.min.css set `[hidden] { display: none !important; }` so we also need the `!important` here to be able to override the default hidden behavior on the sphinx rendered scikit-learn.org. See: https://github.com/scikit-learn/scikit-learn/issues/21755 */display: inline-block !important;position: relative;}#sk-container-id-3 div.sk-text-repr-fallback {display: none;}</style><div id=\"sk-container-id-3\" class=\"sk-top-container\"><div class=\"sk-text-repr-fallback\"><pre>Pipeline(steps=[(&#x27;scale&#x27;, StandardScaler()), (&#x27;knn&#x27;, KNeighborsClassifier())])</pre><b>In a Jupyter environment, please rerun this cell to show the HTML representation or trust the notebook. <br />On GitHub, the HTML representation is unable to render, please try loading this page with nbviewer.org.</b></div><div class=\"sk-container\" hidden><div class=\"sk-item sk-dashed-wrapped\"><div class=\"sk-label-container\"><div class=\"sk-label sk-toggleable\"><input class=\"sk-toggleable__control sk-hidden--visually\" id=\"sk-estimator-id-7\" type=\"checkbox\" ><label for=\"sk-estimator-id-7\" class=\"sk-toggleable__label sk-toggleable__label-arrow\">Pipeline</label><div class=\"sk-toggleable__content\"><pre>Pipeline(steps=[(&#x27;scale&#x27;, StandardScaler()), (&#x27;knn&#x27;, KNeighborsClassifier())])</pre></div></div></div><div class=\"sk-serial\"><div class=\"sk-item\"><div class=\"sk-estimator sk-toggleable\"><input class=\"sk-toggleable__control sk-hidden--visually\" id=\"sk-estimator-id-8\" type=\"checkbox\" ><label for=\"sk-estimator-id-8\" class=\"sk-toggleable__label sk-toggleable__label-arrow\">StandardScaler</label><div class=\"sk-toggleable__content\"><pre>StandardScaler()</pre></div></div></div><div class=\"sk-item\"><div class=\"sk-estimator sk-toggleable\"><input class=\"sk-toggleable__control sk-hidden--visually\" id=\"sk-estimator-id-9\" type=\"checkbox\" ><label for=\"sk-estimator-id-9\" class=\"sk-toggleable__label sk-toggleable__label-arrow\">KNeighborsClassifier</label><div class=\"sk-toggleable__content\"><pre>KNeighborsClassifier()</pre></div></div></div></div></div></div></div>"
      ],
      "text/plain": [
       "Pipeline(steps=[('scale', StandardScaler()), ('knn', KNeighborsClassifier())])"
      ]
     },
     "execution_count": 70,
     "metadata": {},
     "output_type": "execute_result"
    }
   ],
   "source": [
    "knn_pipe = Pipeline([('scale', StandardScaler()), ('knn', KNeighborsClassifier())])\n",
    "knn_pipe.fit(X_train, y_train)\n"
   ]
  },
  {
   "cell_type": "code",
   "execution_count": 71,
   "id": "9e14009f",
   "metadata": {},
   "outputs": [
    {
     "data": {
      "image/png": "[encoded data removed]",
      "text/plain": [
       "<Figure size 640x480 with 2 Axes>"
      ]
     },
     "metadata": {},
     "output_type": "display_data"
    }
   ],
   "source": [
    "from sklearn.metrics import confusion_matrix, precision_score, recall_score, accuracy_score, ConfusionMatrixDisplay\n",
    "import matplotlib.pyplot as plt\n",
    "\n",
    "knn_preds = knn_pipe.predict(X_test)\n",
    "voo_confusion_mat = confusion_matrix(y_test, knn_preds)\n",
    "disp = ConfusionMatrixDisplay(confusion_matrix=voo_confusion_mat, display_labels=['not buy', 'buy' ])\n",
    "disp.plot()\n",
    "plt.show()\n"
   ]
  },
  {
   "cell_type": "markdown",
   "id": "910b0c13",
   "metadata": {},
   "source": [
    "This is really good results given it is the simplest model. It made correct dicision 32 times, and only make 6 mistake. "
   ]
  },
  {
   "cell_type": "markdown",
   "id": "c732b294",
   "metadata": {},
   "source": [
    "## Logistic Regression"
   ]
  },
  {
   "cell_type": "code",
   "execution_count": 72,
   "id": "1e7eafdb",
   "metadata": {},
   "outputs": [],
   "source": [
    "from sklearn.linear_model import LogisticRegression"
   ]
  },
  {
   "cell_type": "code",
   "execution_count": 73,
   "id": "ba8705d1",
   "metadata": {},
   "outputs": [
    {
     "data": {
      "text/html": [
       "<style>#sk-container-id-4 {color: black;background-color: white;}#sk-container-id-4 pre{padding: 0;}#sk-container-id-4 div.sk-toggleable {background-color: white;}#sk-container-id-4 label.sk-toggleable__label {cursor: pointer;display: block;width: 100%;margin-bottom: 0;padding: 0.3em;box-sizing: border-box;text-align: center;}#sk-container-id-4 label.sk-toggleable__label-arrow:before {content: \"▸\";float: left;margin-right: 0.25em;color: #696969;}#sk-container-id-4 label.sk-toggleable__label-arrow:hover:before {color: black;}#sk-container-id-4 div.sk-estimator:hover label.sk-toggleable__label-arrow:before {color: black;}#sk-container-id-4 div.sk-toggleable__content {max-height: 0;max-width: 0;overflow: hidden;text-align: left;background-color: #f0f8ff;}#sk-container-id-4 div.sk-toggleable__content pre {margin: 0.2em;color: black;border-radius: 0.25em;background-color: #f0f8ff;}#sk-container-id-4 input.sk-toggleable__control:checked~div.sk-toggleable__content {max-height: 200px;max-width: 100%;overflow: auto;}#sk-container-id-4 input.sk-toggleable__control:checked~label.sk-toggleable__label-arrow:before {content: \"▾\";}#sk-container-id-4 div.sk-estimator input.sk-toggleable__control:checked~label.sk-toggleable__label {background-color: #d4ebff;}#sk-container-id-4 div.sk-label input.sk-toggleable__control:checked~label.sk-toggleable__label {background-color: #d4ebff;}#sk-container-id-4 input.sk-hidden--visually {border: 0;clip: rect(1px 1px 1px 1px);clip: rect(1px, 1px, 1px, 1px);height: 1px;margin: -1px;overflow: hidden;padding: 0;position: absolute;width: 1px;}#sk-container-id-4 div.sk-estimator {font-family: monospace;background-color: #f0f8ff;border: 1px dotted black;border-radius: 0.25em;box-sizing: border-box;margin-bottom: 0.5em;}#sk-container-id-4 div.sk-estimator:hover {background-color: #d4ebff;}#sk-container-id-4 div.sk-parallel-item::after {content: \"\";width: 100%;border-bottom: 1px solid gray;flex-grow: 1;}#sk-container-id-4 div.sk-label:hover label.sk-toggleable__label {background-color: #d4ebff;}#sk-container-id-4 div.sk-serial::before {content: \"\";position: absolute;border-left: 1px solid gray;box-sizing: border-box;top: 0;bottom: 0;left: 50%;z-index: 0;}#sk-container-id-4 div.sk-serial {display: flex;flex-direction: column;align-items: center;background-color: white;padding-right: 0.2em;padding-left: 0.2em;position: relative;}#sk-container-id-4 div.sk-item {position: relative;z-index: 1;}#sk-container-id-4 div.sk-parallel {display: flex;align-items: stretch;justify-content: center;background-color: white;position: relative;}#sk-container-id-4 div.sk-item::before, #sk-container-id-4 div.sk-parallel-item::before {content: \"\";position: absolute;border-left: 1px solid gray;box-sizing: border-box;top: 0;bottom: 0;left: 50%;z-index: -1;}#sk-container-id-4 div.sk-parallel-item {display: flex;flex-direction: column;z-index: 1;position: relative;background-color: white;}#sk-container-id-4 div.sk-parallel-item:first-child::after {align-self: flex-end;width: 50%;}#sk-container-id-4 div.sk-parallel-item:last-child::after {align-self: flex-start;width: 50%;}#sk-container-id-4 div.sk-parallel-item:only-child::after {width: 0;}#sk-container-id-4 div.sk-dashed-wrapped {border: 1px dashed gray;margin: 0 0.4em 0.5em 0.4em;box-sizing: border-box;padding-bottom: 0.4em;background-color: white;}#sk-container-id-4 div.sk-label label {font-family: monospace;font-weight: bold;display: inline-block;line-height: 1.2em;}#sk-container-id-4 div.sk-label-container {text-align: center;}#sk-container-id-4 div.sk-container {/* jupyter's `normalize.less` sets `[hidden] { display: none; }` but bootstrap.min.css set `[hidden] { display: none !important; }` so we also need the `!important` here to be able to override the default hidden behavior on the sphinx rendered scikit-learn.org. See: https://github.com/scikit-learn/scikit-learn/issues/21755 */display: inline-block !important;position: relative;}#sk-container-id-4 div.sk-text-repr-fallback {display: none;}</style><div id=\"sk-container-id-4\" class=\"sk-top-container\"><div class=\"sk-text-repr-fallback\"><pre>Pipeline(steps=[(&#x27;scale&#x27;, StandardScaler()), (&#x27;log&#x27;, LogisticRegression())])</pre><b>In a Jupyter environment, please rerun this cell to show the HTML representation or trust the notebook. <br />On GitHub, the HTML representation is unable to render, please try loading this page with nbviewer.org.</b></div><div class=\"sk-container\" hidden><div class=\"sk-item sk-dashed-wrapped\"><div class=\"sk-label-container\"><div class=\"sk-label sk-toggleable\"><input class=\"sk-toggleable__control sk-hidden--visually\" id=\"sk-estimator-id-10\" type=\"checkbox\" ><label for=\"sk-estimator-id-10\" class=\"sk-toggleable__label sk-toggleable__label-arrow\">Pipeline</label><div class=\"sk-toggleable__content\"><pre>Pipeline(steps=[(&#x27;scale&#x27;, StandardScaler()), (&#x27;log&#x27;, LogisticRegression())])</pre></div></div></div><div class=\"sk-serial\"><div class=\"sk-item\"><div class=\"sk-estimator sk-toggleable\"><input class=\"sk-toggleable__control sk-hidden--visually\" id=\"sk-estimator-id-11\" type=\"checkbox\" ><label for=\"sk-estimator-id-11\" class=\"sk-toggleable__label sk-toggleable__label-arrow\">StandardScaler</label><div class=\"sk-toggleable__content\"><pre>StandardScaler()</pre></div></div></div><div class=\"sk-item\"><div class=\"sk-estimator sk-toggleable\"><input class=\"sk-toggleable__control sk-hidden--visually\" id=\"sk-estimator-id-12\" type=\"checkbox\" ><label for=\"sk-estimator-id-12\" class=\"sk-toggleable__label sk-toggleable__label-arrow\">LogisticRegression</label><div class=\"sk-toggleable__content\"><pre>LogisticRegression()</pre></div></div></div></div></div></div></div>"
      ],
      "text/plain": [
       "Pipeline(steps=[('scale', StandardScaler()), ('log', LogisticRegression())])"
      ]
     },
     "execution_count": 73,
     "metadata": {},
     "output_type": "execute_result"
    }
   ],
   "source": [
    "log_pipe = Pipeline([('scale', StandardScaler()), ('log', LogisticRegression())])\n",
    "log_pipe.fit(X_train, y_train)\n"
   ]
  },
  {
   "cell_type": "code",
   "execution_count": 74,
   "id": "1a6c16a5",
   "metadata": {},
   "outputs": [
    {
     "data": {
      "image/png": "[encoded data removed]",
      "text/plain": [
       "<Figure size 640x480 with 2 Axes>"
      ]
     },
     "metadata": {},
     "output_type": "display_data"
    }
   ],
   "source": [
    "log_preds = log_pipe.predict(X_test)\n",
    "voo_confusion_mat = confusion_matrix(y_test, log_preds)\n",
    "disp = ConfusionMatrixDisplay(confusion_matrix=voo_confusion_mat, display_labels=['not buy', 'buy' ])\n",
    "disp.plot()\n",
    "plt.show()\n"
   ]
  },
  {
   "cell_type": "markdown",
   "id": "9ec64adc",
   "metadata": {},
   "source": [
    "This model is not as great as KNN. It has more accurate predictions, but it also make more mistake. It is better to be more conservative for a trading strategy"
   ]
  },
  {
   "cell_type": "markdown",
   "id": "ae4f2c97",
   "metadata": {},
   "source": [
    "## Decision Tree"
   ]
  },
  {
   "cell_type": "code",
   "execution_count": 75,
   "id": "a7a7b221",
   "metadata": {},
   "outputs": [],
   "source": [
    "from sklearn.tree import DecisionTreeClassifier"
   ]
  },
  {
   "cell_type": "code",
   "execution_count": 76,
   "id": "2abc8924",
   "metadata": {},
   "outputs": [],
   "source": [
    "tree_model = DecisionTreeClassifier()\n",
    "tree_model.fit(X_train,y_train)\n",
    "tree_pred = tree_model.predict(X_test)"
   ]
  },
  {
   "cell_type": "code",
   "execution_count": 77,
   "id": "1cb6bc8a",
   "metadata": {},
   "outputs": [
    {
     "data": {
      "image/png": "[encoded data removed]",
      "text/plain": [
       "<Figure size 640x480 with 2 Axes>"
      ]
     },
     "metadata": {},
     "output_type": "display_data"
    }
   ],
   "source": [
    "voo_confusion_mat = confusion_matrix(y_test, tree_pred)\n",
    "disp = ConfusionMatrixDisplay(confusion_matrix=voo_confusion_mat, display_labels=['not buy', 'buy' ])\n",
    "disp.plot()\n",
    "plt.show()\n"
   ]
  },
  {
   "cell_type": "markdown",
   "id": "93b1ce35",
   "metadata": {},
   "source": [
    "This is better than logistic regression, but still worse than KNN"
   ]
  },
  {
   "cell_type": "markdown",
   "id": "588e7ea8",
   "metadata": {},
   "source": [
    "## SVM"
   ]
  },
  {
   "cell_type": "code",
   "execution_count": 78,
   "id": "a96951df",
   "metadata": {},
   "outputs": [],
   "source": [
    "from sklearn.svm import SVC\n"
   ]
  },
  {
   "cell_type": "code",
   "execution_count": 79,
   "id": "49d4bfca",
   "metadata": {},
   "outputs": [
    {
     "data": {
      "text/plain": [
       "<sklearn.metrics._plot.confusion_matrix.ConfusionMatrixDisplay at 0x1cec94f3150>"
      ]
     },
     "execution_count": 79,
     "metadata": {},
     "output_type": "execute_result"
    },
    {
     "data": {
      "image/png": "[encoded data removed]",
      "text/plain": [
       "<Figure size 640x480 with 2 Axes>"
      ]
     },
     "metadata": {},
     "output_type": "display_data"
    }
   ],
   "source": [
    "svc_model = SVC()\n",
    "svc_model.fit(X_train, y_train)\n",
    "svc_pred = svc_model.predict(X_test)\n",
    "voo_confusion_mat = confusion_matrix(y_test, svc_pred)\n",
    "disp = ConfusionMatrixDisplay(confusion_matrix=voo_confusion_mat, display_labels=['not buy', 'buy' ])\n",
    "disp.plot()"
   ]
  },
  {
   "cell_type": "markdown",
   "id": "63276609",
   "metadata": {},
   "source": [
    "This is still worse than KNN , but better than Logistic Regression and Decision Tree"
   ]
  },
  {
   "cell_type": "markdown",
   "id": "e77062ec",
   "metadata": {},
   "source": [
    "## We can further improve the models by tuning some parameters"
   ]
  },
  {
   "cell_type": "markdown",
   "id": "b7f8dbcc",
   "metadata": {},
   "source": [
    "## Improve KNN"
   ]
  },
  {
   "cell_type": "code",
   "execution_count": 80,
   "id": "2f42efc8",
   "metadata": {},
   "outputs": [],
   "source": [
    "from sklearn.model_selection import GridSearchCV\n",
    "knn_grid = GridSearchCV(knn_pipe, param_grid={'knn__n_neighbors': range(1, 33, 2)}, scoring = 'roc_auc')\n",
    "knn_grid.fit(X_train, y_train)\n",
    "best_k = knn_grid.best_params_['knn__n_neighbors']\n"
   ]
  },
  {
   "cell_type": "code",
   "execution_count": 81,
   "id": "a40b390f",
   "metadata": {},
   "outputs": [
    {
     "data": {
      "text/plain": [
       "13"
      ]
     },
     "execution_count": 81,
     "metadata": {},
     "output_type": "execute_result"
    }
   ],
   "source": [
    "best_k"
   ]
  },
  {
   "cell_type": "code",
   "execution_count": 82,
   "id": "bb306eaa",
   "metadata": {},
   "outputs": [
    {
     "data": {
      "image/png": "[encoded data removed]",
      "text/plain": [
       "<Figure size 640x480 with 2 Axes>"
      ]
     },
     "metadata": {},
     "output_type": "display_data"
    }
   ],
   "source": [
    "knn_new_pipe = Pipeline([('scale', StandardScaler()), ('knn', KNeighborsClassifier(n_neighbors=3))])\n",
    "knn_new_pipe.fit(X_train, y_train)\n",
    "knn_new_preds = knn_new_pipe.predict(X_test)\n",
    "voo_confusion_mat = confusion_matrix(y_test, knn_new_preds)\n",
    "disp = ConfusionMatrixDisplay(confusion_matrix=voo_confusion_mat, display_labels=['not buy', 'buy' ])\n",
    "disp.plot()\n",
    "plt.show()"
   ]
  },
  {
   "cell_type": "markdown",
   "id": "47e9fa3a",
   "metadata": {},
   "source": [
    "## Improving Logistic Regression"
   ]
  },
  {
   "cell_type": "code",
   "execution_count": 83,
   "id": "cd372c2a",
   "metadata": {},
   "outputs": [],
   "source": [
    "scaler = StandardScaler()\n",
    "scaled_X_train = scaler.fit_transform(X_train)\n",
    "scaled_X_test = scaler.transform(X_test)\n"
   ]
  },
  {
   "cell_type": "code",
   "execution_count": 84,
   "id": "28cf69e0",
   "metadata": {},
   "outputs": [
    {
     "name": "stdout",
     "output_type": "stream",
     "text": [
      "[[0. 0. 0. 0. 0.]]\n",
      "[[0. 0. 0. 0. 0.]]\n",
      "[[0. 0. 0. 0. 0.]]\n",
      "[[0. 0. 0. 0. 0.]]\n",
      "[[0. 0. 0. 0. 0.]]\n",
      "[[0. 0. 0. 0. 0.]]\n",
      "[[0. 0. 0. 0. 0.]]\n",
      "[[0. 0. 0. 0. 0.]]\n",
      "[[0. 0. 0. 0. 0.]]\n",
      "[[0. 0. 0. 0. 0.]]\n",
      "[[0. 0. 0. 0. 0.]]\n",
      "[[0. 0. 0. 0. 0.]]\n",
      "[[0. 0. 0. 0. 0.]]\n",
      "[[0. 0. 0. 0. 0.]]\n",
      "[[0. 0. 0. 0. 0.]]\n",
      "[[0.         0.         0.         0.01743181 0.        ]]\n",
      "[[0.         0.         0.         0.04090725 0.        ]]\n",
      "[[0.         0.         0.         0.06063087 0.        ]]\n",
      "[[0.         0.         0.         0.07719302 0.        ]]\n",
      "[[0.         0.         0.         0.09108515 0.        ]]\n",
      "[[0.         0.         0.         0.10272414 0.        ]]\n",
      "[[0.         0.         0.         0.11246338 0.        ]]\n",
      "[[0.         0.         0.         0.12060159 0.        ]]\n",
      "[[0.         0.         0.         0.12739449 0.        ]]\n",
      "[[0.         0.         0.         0.13305734 0.        ]]\n",
      "[[0.         0.         0.         0.13777685 0.        ]]\n",
      "[[-0.06520626  0.          0.          0.20594433  0.        ]]\n",
      "[[-0.24271428  0.          0.          0.38436957  0.        ]]\n",
      "[[-0.39165387  0.          0.          0.53429812  0.        ]]\n",
      "[[-0.52820038  0.01723914  0.          0.65461134  0.        ]]\n",
      "[[-0.82903779  0.31509608  0.          0.65873661  0.        ]]\n",
      "[[-1.09094764  0.5742656   0.          0.66281047  0.        ]]\n",
      "[[-1.31822022  0.79912255  0.          0.66660714  0.        ]]\n",
      "[[-1.50970606  0.99914698  0.          0.74139769 -0.08222539]]\n",
      "[[-1.66739596  1.19335066 -0.06492581  0.8823041  -0.19369299]]\n",
      "[[-1.78385703  1.42328144 -0.35266158  1.14627807 -0.2821745 ]]\n",
      "[[-1.88274551  1.61468772 -0.59008834  1.36623134 -0.35602918]]\n",
      "[[-1.9665217   1.77454101 -0.7868501   1.54951487 -0.41750704]]\n",
      "[[-2.03733513  1.90783476 -0.94964189  1.70204418 -0.46869943]]\n",
      "[[-2.09699912  2.01889534 -1.08415959  1.82870312 -0.51134054]]\n",
      "[[-2.1471401   2.11145997 -1.19566024  1.93407325 -0.5468509 ]]\n",
      "[[-2.18914258  2.18841656 -1.28803117  2.0217204  -0.57642174]]\n",
      "[[-2.22443635  2.25286261 -1.36512701  2.09488286 -0.60104858]]\n",
      "[[-2.25383698  2.30624468 -1.42868999  2.15540014 -0.62149216]]\n",
      "[[-2.27836796  2.35062305 -1.48138904  2.20565699 -0.63848079]]\n",
      "[[-2.29889886  2.38773526 -1.525593    2.24777135 -0.65262835]]\n",
      "[[-2.31559401  2.41644759 -1.55667643  2.27826992 -0.66378583]]\n",
      "[[-2.33008749  2.44380575 -1.59186994  2.31115632 -0.67407598]]\n",
      "[[-2.34188553  2.46495371 -1.61682978  2.33505927 -0.68216157]]\n",
      "[[-2.35167033  2.48247267 -1.63747225  2.35483846 -0.68885972]]\n"
     ]
    }
   ],
   "source": [
    "import numpy as np\n",
    "\n",
    "Cs = np.logspace(-2, 2)\n",
    "coef_list = []\n",
    "\n",
    "for C in Cs:\n",
    "    lgr = LogisticRegression(penalty = 'l1', solver = 'liblinear', C = C, random_state=42, max_iter = 1000).fit(scaled_X_train, y_train)\n",
    "    coef_list.append(list(lgr.coef_[0]))\n",
    "    print(lgr.coef_)\n"
   ]
  },
  {
   "cell_type": "code",
   "execution_count": 85,
   "id": "0a50042b",
   "metadata": {},
   "outputs": [
    {
     "data": {
      "text/plain": [
       "array([1.00000000e-02, 1.20679264e-02, 1.45634848e-02, 1.75751062e-02,\n",
       "       2.12095089e-02, 2.55954792e-02, 3.08884360e-02, 3.72759372e-02,\n",
       "       4.49843267e-02, 5.42867544e-02, 6.55128557e-02, 7.90604321e-02,\n",
       "       9.54095476e-02, 1.15139540e-01, 1.38949549e-01, 1.67683294e-01,\n",
       "       2.02358965e-01, 2.44205309e-01, 2.94705170e-01, 3.55648031e-01,\n",
       "       4.29193426e-01, 5.17947468e-01, 6.25055193e-01, 7.54312006e-01,\n",
       "       9.10298178e-01, 1.09854114e+00, 1.32571137e+00, 1.59985872e+00,\n",
       "       1.93069773e+00, 2.32995181e+00, 2.81176870e+00, 3.39322177e+00,\n",
       "       4.09491506e+00, 4.94171336e+00, 5.96362332e+00, 7.19685673e+00,\n",
       "       8.68511374e+00, 1.04811313e+01, 1.26485522e+01, 1.52641797e+01,\n",
       "       1.84206997e+01, 2.22299648e+01, 2.68269580e+01, 3.23745754e+01,\n",
       "       3.90693994e+01, 4.71486636e+01, 5.68986603e+01, 6.86648845e+01,\n",
       "       8.28642773e+01, 1.00000000e+02])"
      ]
     },
     "execution_count": 85,
     "metadata": {},
     "output_type": "execute_result"
    }
   ],
   "source": [
    "np.logspace(-2, 2)"
   ]
  },
  {
   "cell_type": "code",
   "execution_count": 86,
   "id": "f432b732",
   "metadata": {},
   "outputs": [],
   "source": [
    "new_lgr = LogisticRegression(penalty = 'l1', solver = 'liblinear', C = 0.01, random_state=42, max_iter = 1000).fit(scaled_X_train, y_train)\n"
   ]
  },
  {
   "cell_type": "code",
   "execution_count": 87,
   "id": "b271f34b",
   "metadata": {},
   "outputs": [],
   "source": [
    "new_log_preds = new_lgr.predict(scaled_X_test)\n"
   ]
  },
  {
   "cell_type": "code",
   "execution_count": 88,
   "id": "05783b0d",
   "metadata": {},
   "outputs": [
    {
     "data": {
      "image/png": "[encoded data removed]",
      "text/plain": [
       "<Figure size 640x480 with 2 Axes>"
      ]
     },
     "metadata": {},
     "output_type": "display_data"
    }
   ],
   "source": [
    "voo_confusion_mat = confusion_matrix(y_test, new_log_preds)\n",
    "disp = ConfusionMatrixDisplay(confusion_matrix=voo_confusion_mat, display_labels=['not buy', 'buy' ])\n",
    "disp.plot()\n",
    "plt.show()\n"
   ]
  },
  {
   "cell_type": "markdown",
   "id": "e1dc849c",
   "metadata": {},
   "source": [
    "This is too conservative, we won't make any trade i.e. profit with this"
   ]
  },
  {
   "cell_type": "markdown",
   "id": "8a31e48f",
   "metadata": {},
   "source": [
    "## Improving Decision Tree\n"
   ]
  },
  {
   "cell_type": "code",
   "execution_count": 89,
   "id": "6378445c",
   "metadata": {},
   "outputs": [],
   "source": [
    "params = {'min_impurity_decrease': [0.01, 0.02, 0.03, 0.05],\n",
    "         'max_depth': [2, 5, 10],\n",
    "         'min_samples_split': [0.1, 0.2, 0.05]}"
   ]
  },
  {
   "cell_type": "code",
   "execution_count": 90,
   "id": "ad3c5626",
   "metadata": {},
   "outputs": [],
   "source": [
    "new_tree_grid = GridSearchCV(DecisionTreeClassifier(random_state = 42), param_grid=params).fit(X_train, y_train)\n"
   ]
  },
  {
   "cell_type": "code",
   "execution_count": 91,
   "id": "d26bcea9",
   "metadata": {},
   "outputs": [],
   "source": [
    "new_tree_pred = new_tree_grid.predict(X_test)"
   ]
  },
  {
   "cell_type": "code",
   "execution_count": 92,
   "id": "951a8d9d",
   "metadata": {},
   "outputs": [
    {
     "data": {
      "image/png": "[encoded data removed]",
      "text/plain": [
       "<Figure size 640x480 with 2 Axes>"
      ]
     },
     "metadata": {},
     "output_type": "display_data"
    }
   ],
   "source": [
    "voo_confusion_mat = confusion_matrix(y_test, new_tree_pred)\n",
    "disp = ConfusionMatrixDisplay(confusion_matrix=voo_confusion_mat, display_labels=['not buy', 'buy' ])\n",
    "disp.plot()\n",
    "plt.show()\n"
   ]
  },
  {
   "cell_type": "markdown",
   "id": "58a5960a",
   "metadata": {},
   "source": [
    "The model has improved. It performs almost as good as KNN."
   ]
  },
  {
   "cell_type": "markdown",
   "id": "e057b82f",
   "metadata": {},
   "source": [
    "## Improving SVM"
   ]
  },
  {
   "cell_type": "code",
   "execution_count": 47,
   "id": "86457734",
   "metadata": {},
   "outputs": [],
   "source": [
    "params = {'kernel': ['rbf', 'poly', 'linear', 'sigmoid']}"
   ]
  },
  {
   "cell_type": "code",
   "execution_count": 48,
   "id": "007f7dd8",
   "metadata": {},
   "outputs": [
    {
     "data": {
      "image/png": "[encoded data removed]",
      "text/plain": [
       "<Figure size 640x480 with 2 Axes>"
      ]
     },
     "metadata": {},
     "output_type": "display_data"
    }
   ],
   "source": [
    "svc_grid = GridSearchCV(SVC(), param_grid=params).fit(X_train, y_train)\n",
    "svc_grid.fit(X_train, y_train)\n",
    "svc_new_pred = svc_grid.predict(X_test)\n",
    "voo_confusion_mat = confusion_matrix(y_test, svc_new_pred)\n",
    "disp = ConfusionMatrixDisplay(confusion_matrix=voo_confusion_mat, display_labels=['not buy', 'buy' ])\n",
    "disp.plot()\n",
    "plt.show()\n"
   ]
  },
  {
   "cell_type": "markdown",
   "id": "b0eba2d2",
   "metadata": {},
   "source": [
    "The model became more aggressive. It made more trade decision but also make more mistake"
   ]
  },
  {
   "cell_type": "markdown",
   "id": "29476b8a",
   "metadata": {},
   "source": [
    "## From this analysis, for a stock that is consistently doing well. A simple KNN model will give us good short term trading decision. "
   ]
  },
  {
   "cell_type": "code",
   "execution_count": null,
   "id": "b94a34c7",
   "metadata": {},
   "outputs": [],
   "source": []
  }
 ],
 "metadata": {
  "kernelspec": {
   "display_name": "Python 3 (ipykernel)",
   "language": "python",
   "name": "python3"
  },
  "language_info": {
   "codemirror_mode": {
    "name": "ipython",
    "version": 3
   },
   "file_extension": ".py",
   "mimetype": "text/x-python",
   "name": "python",
   "nbconvert_exporter": "python",
   "pygments_lexer": "ipython3",
   "version": "3.11.3"
  }
 },
 "nbformat": 4,
 "nbformat_minor": 5
}
